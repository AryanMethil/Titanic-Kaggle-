{
 "cells": [
  {
   "cell_type": "markdown",
   "id": "beautiful-crystal",
   "metadata": {
    "papermill": {
     "duration": 0.042954,
     "end_time": "2021-05-04T19:12:11.081354",
     "exception": false,
     "start_time": "2021-05-04T19:12:11.038400",
     "status": "completed"
    },
    "tags": []
   },
   "source": [
    "# Creating 5 Stratified K Fold cross validation sets"
   ]
  },
  {
   "cell_type": "code",
   "execution_count": 1,
   "id": "flying-mills",
   "metadata": {
    "execution": {
     "iopub.execute_input": "2021-05-04T19:12:11.178636Z",
     "iopub.status.busy": "2021-05-04T19:12:11.177794Z",
     "iopub.status.idle": "2021-05-04T19:12:12.574701Z",
     "shell.execute_reply": "2021-05-04T19:12:12.573916Z"
    },
    "id": "-xmIjKYDuWKL",
    "outputId": "5a49f6a0-5298-452f-a2dd-59428f608a52",
    "papermill": {
     "duration": 1.451127,
     "end_time": "2021-05-04T19:12:12.574927",
     "exception": false,
     "start_time": "2021-05-04T19:12:11.123800",
     "status": "completed"
    },
    "tags": []
   },
   "outputs": [],
   "source": [
    "TRAINING_PATH='../input/titanic/train.csv'\n",
    "TRAINING_FOLDS_PATH='./'\n",
    "\n",
    "import pandas as pd\n",
    "\n",
    "df_train=pd.read_csv(TRAINING_PATH)\n",
    "df_train.head()\n",
    "\n",
    "df_train['Survived'].value_counts()\n",
    "\n",
    "df_train['kfolds']=-1\n",
    "df_train=df_train.sample(frac=1).reset_index(drop=True)\n",
    "df_train.head()\n",
    "\n",
    "from sklearn import model_selection\n",
    "\n",
    "strat_kf=model_selection.StratifiedKFold(n_splits=5)\n",
    "\n",
    "for fold,(trn_,val_) in enumerate(strat_kf.split(X=df_train,y=df_train['Survived'])):\n",
    "  df_train.loc[val_,'kfolds']=fold\n",
    "df_train.head()\n",
    "\n",
    "df_train.to_csv(TRAINING_FOLDS_PATH+'train_folds.csv')\n"
   ]
  },
  {
   "cell_type": "markdown",
   "id": "center-jones",
   "metadata": {
    "papermill": {
     "duration": 0.046035,
     "end_time": "2021-05-04T19:12:12.666703",
     "exception": false,
     "start_time": "2021-05-04T19:12:12.620668",
     "status": "completed"
    },
    "tags": []
   },
   "source": [
    "# Importing Libraries"
   ]
  },
  {
   "cell_type": "code",
   "execution_count": 2,
   "id": "nonprofit-adjustment",
   "metadata": {
    "execution": {
     "iopub.execute_input": "2021-05-04T19:12:12.761724Z",
     "iopub.status.busy": "2021-05-04T19:12:12.760843Z",
     "iopub.status.idle": "2021-05-04T19:12:13.131921Z",
     "shell.execute_reply": "2021-05-04T19:12:13.131371Z"
    },
    "id": "8NC2KleDZUi_",
    "papermill": {
     "duration": 0.421917,
     "end_time": "2021-05-04T19:12:13.132106",
     "exception": false,
     "start_time": "2021-05-04T19:12:12.710189",
     "status": "completed"
    },
    "tags": []
   },
   "outputs": [],
   "source": [
    "import joblib\n",
    "import pandas as pd\n",
    "from sklearn import metrics\n",
    "from sklearn import tree\n",
    "from xgboost import XGBClassifier\n",
    "from sklearn.naive_bayes import GaussianNB\n",
    "from sklearn.svm import SVC\n",
    "from sklearn.ensemble import AdaBoostClassifier\n",
    "from sklearn.ensemble import RandomForestClassifier\n",
    "import warnings\n",
    "warnings.filterwarnings('ignore')\n",
    "warnings.simplefilter('ignore')"
   ]
  },
  {
   "cell_type": "markdown",
   "id": "theoretical-apache",
   "metadata": {
    "papermill": {
     "duration": 0.042672,
     "end_time": "2021-05-04T19:12:13.217244",
     "exception": false,
     "start_time": "2021-05-04T19:12:13.174572",
     "status": "completed"
    },
    "tags": []
   },
   "source": [
    "# File Paths"
   ]
  },
  {
   "cell_type": "code",
   "execution_count": 3,
   "id": "royal-copying",
   "metadata": {
    "execution": {
     "iopub.execute_input": "2021-05-04T19:12:13.305383Z",
     "iopub.status.busy": "2021-05-04T19:12:13.304694Z",
     "iopub.status.idle": "2021-05-04T19:12:13.307803Z",
     "shell.execute_reply": "2021-05-04T19:12:13.308224Z"
    },
    "id": "b0a9pIVXZ_AD",
    "papermill": {
     "duration": 0.049927,
     "end_time": "2021-05-04T19:12:13.308432",
     "exception": false,
     "start_time": "2021-05-04T19:12:13.258505",
     "status": "completed"
    },
    "tags": []
   },
   "outputs": [],
   "source": [
    "TRAINING_PATH='./train_folds.csv'\n",
    "TESTING_PATH='../input/titanic/test.csv'\n",
    "MODEL_PATH='./'\n",
    "SUBMISSION_FILES_PATH='./Submissions/'"
   ]
  },
  {
   "cell_type": "markdown",
   "id": "artistic-separation",
   "metadata": {
    "id": "mHGrqYDFy_CM",
    "papermill": {
     "duration": 0.041559,
     "end_time": "2021-05-04T19:12:13.391558",
     "exception": false,
     "start_time": "2021-05-04T19:12:13.349999",
     "status": "completed"
    },
    "tags": []
   },
   "source": [
    "# Data Exploration\n",
    "\n",
    "1.   Null Values\n",
    "2.   Number of unique values\n",
    "\n"
   ]
  },
  {
   "cell_type": "code",
   "execution_count": 4,
   "id": "favorite-segment",
   "metadata": {
    "execution": {
     "iopub.execute_input": "2021-05-04T19:12:13.483290Z",
     "iopub.status.busy": "2021-05-04T19:12:13.482605Z",
     "iopub.status.idle": "2021-05-04T19:12:13.511472Z",
     "shell.execute_reply": "2021-05-04T19:12:13.512076Z"
    },
    "id": "vEKQUGQadPaq",
    "outputId": "dc42377b-2467-4c46-e837-b3a268344dac",
    "papermill": {
     "duration": 0.07764,
     "end_time": "2021-05-04T19:12:13.512281",
     "exception": false,
     "start_time": "2021-05-04T19:12:13.434641",
     "status": "completed"
    },
    "tags": []
   },
   "outputs": [
    {
     "data": {
      "text/html": [
       "<div>\n",
       "<style scoped>\n",
       "    .dataframe tbody tr th:only-of-type {\n",
       "        vertical-align: middle;\n",
       "    }\n",
       "\n",
       "    .dataframe tbody tr th {\n",
       "        vertical-align: top;\n",
       "    }\n",
       "\n",
       "    .dataframe thead th {\n",
       "        text-align: right;\n",
       "    }\n",
       "</style>\n",
       "<table border=\"1\" class=\"dataframe\">\n",
       "  <thead>\n",
       "    <tr style=\"text-align: right;\">\n",
       "      <th></th>\n",
       "      <th>Unnamed: 0</th>\n",
       "      <th>PassengerId</th>\n",
       "      <th>Survived</th>\n",
       "      <th>Pclass</th>\n",
       "      <th>Name</th>\n",
       "      <th>Sex</th>\n",
       "      <th>Age</th>\n",
       "      <th>SibSp</th>\n",
       "      <th>Parch</th>\n",
       "      <th>Ticket</th>\n",
       "      <th>Fare</th>\n",
       "      <th>Cabin</th>\n",
       "      <th>Embarked</th>\n",
       "      <th>kfolds</th>\n",
       "    </tr>\n",
       "  </thead>\n",
       "  <tbody>\n",
       "    <tr>\n",
       "      <th>0</th>\n",
       "      <td>0</td>\n",
       "      <td>409</td>\n",
       "      <td>0</td>\n",
       "      <td>3</td>\n",
       "      <td>Birkeland, Mr. Hans Martin Monsen</td>\n",
       "      <td>male</td>\n",
       "      <td>21.0</td>\n",
       "      <td>0</td>\n",
       "      <td>0</td>\n",
       "      <td>312992</td>\n",
       "      <td>7.7750</td>\n",
       "      <td>NaN</td>\n",
       "      <td>S</td>\n",
       "      <td>0</td>\n",
       "    </tr>\n",
       "    <tr>\n",
       "      <th>1</th>\n",
       "      <td>1</td>\n",
       "      <td>207</td>\n",
       "      <td>0</td>\n",
       "      <td>3</td>\n",
       "      <td>Backstrom, Mr. Karl Alfred</td>\n",
       "      <td>male</td>\n",
       "      <td>32.0</td>\n",
       "      <td>1</td>\n",
       "      <td>0</td>\n",
       "      <td>3101278</td>\n",
       "      <td>15.8500</td>\n",
       "      <td>NaN</td>\n",
       "      <td>S</td>\n",
       "      <td>0</td>\n",
       "    </tr>\n",
       "    <tr>\n",
       "      <th>2</th>\n",
       "      <td>2</td>\n",
       "      <td>617</td>\n",
       "      <td>0</td>\n",
       "      <td>3</td>\n",
       "      <td>Danbom, Mr. Ernst Gilbert</td>\n",
       "      <td>male</td>\n",
       "      <td>34.0</td>\n",
       "      <td>1</td>\n",
       "      <td>1</td>\n",
       "      <td>347080</td>\n",
       "      <td>14.4000</td>\n",
       "      <td>NaN</td>\n",
       "      <td>S</td>\n",
       "      <td>0</td>\n",
       "    </tr>\n",
       "    <tr>\n",
       "      <th>3</th>\n",
       "      <td>3</td>\n",
       "      <td>822</td>\n",
       "      <td>1</td>\n",
       "      <td>3</td>\n",
       "      <td>Lulic, Mr. Nikola</td>\n",
       "      <td>male</td>\n",
       "      <td>27.0</td>\n",
       "      <td>0</td>\n",
       "      <td>0</td>\n",
       "      <td>315098</td>\n",
       "      <td>8.6625</td>\n",
       "      <td>NaN</td>\n",
       "      <td>S</td>\n",
       "      <td>0</td>\n",
       "    </tr>\n",
       "    <tr>\n",
       "      <th>4</th>\n",
       "      <td>4</td>\n",
       "      <td>247</td>\n",
       "      <td>0</td>\n",
       "      <td>3</td>\n",
       "      <td>Lindahl, Miss. Agda Thorilda Viktoria</td>\n",
       "      <td>female</td>\n",
       "      <td>25.0</td>\n",
       "      <td>0</td>\n",
       "      <td>0</td>\n",
       "      <td>347071</td>\n",
       "      <td>7.7750</td>\n",
       "      <td>NaN</td>\n",
       "      <td>S</td>\n",
       "      <td>0</td>\n",
       "    </tr>\n",
       "  </tbody>\n",
       "</table>\n",
       "</div>"
      ],
      "text/plain": [
       "   Unnamed: 0  PassengerId  Survived  Pclass  \\\n",
       "0           0          409         0       3   \n",
       "1           1          207         0       3   \n",
       "2           2          617         0       3   \n",
       "3           3          822         1       3   \n",
       "4           4          247         0       3   \n",
       "\n",
       "                                    Name     Sex   Age  SibSp  Parch   Ticket  \\\n",
       "0      Birkeland, Mr. Hans Martin Monsen    male  21.0      0      0   312992   \n",
       "1             Backstrom, Mr. Karl Alfred    male  32.0      1      0  3101278   \n",
       "2              Danbom, Mr. Ernst Gilbert    male  34.0      1      1   347080   \n",
       "3                      Lulic, Mr. Nikola    male  27.0      0      0   315098   \n",
       "4  Lindahl, Miss. Agda Thorilda Viktoria  female  25.0      0      0   347071   \n",
       "\n",
       "      Fare Cabin Embarked  kfolds  \n",
       "0   7.7750   NaN        S       0  \n",
       "1  15.8500   NaN        S       0  \n",
       "2  14.4000   NaN        S       0  \n",
       "3   8.6625   NaN        S       0  \n",
       "4   7.7750   NaN        S       0  "
      ]
     },
     "execution_count": 4,
     "metadata": {},
     "output_type": "execute_result"
    }
   ],
   "source": [
    "df=pd.read_csv(TRAINING_PATH)\n",
    "df.head()"
   ]
  },
  {
   "cell_type": "code",
   "execution_count": 5,
   "id": "frequent-dinner",
   "metadata": {
    "execution": {
     "iopub.execute_input": "2021-05-04T19:12:13.600356Z",
     "iopub.status.busy": "2021-05-04T19:12:13.599359Z",
     "iopub.status.idle": "2021-05-04T19:12:13.642870Z",
     "shell.execute_reply": "2021-05-04T19:12:13.643416Z"
    },
    "id": "Q4Sz9PIrv2JU",
    "outputId": "90351aa6-10c7-4a84-902b-9ad0a224dac9",
    "papermill": {
     "duration": 0.089755,
     "end_time": "2021-05-04T19:12:13.643607",
     "exception": false,
     "start_time": "2021-05-04T19:12:13.553852",
     "status": "completed"
    },
    "tags": []
   },
   "outputs": [
    {
     "data": {
      "text/html": [
       "<div>\n",
       "<style scoped>\n",
       "    .dataframe tbody tr th:only-of-type {\n",
       "        vertical-align: middle;\n",
       "    }\n",
       "\n",
       "    .dataframe tbody tr th {\n",
       "        vertical-align: top;\n",
       "    }\n",
       "\n",
       "    .dataframe thead th {\n",
       "        text-align: right;\n",
       "    }\n",
       "</style>\n",
       "<table border=\"1\" class=\"dataframe\">\n",
       "  <thead>\n",
       "    <tr style=\"text-align: right;\">\n",
       "      <th></th>\n",
       "      <th>Unnamed: 0</th>\n",
       "      <th>PassengerId</th>\n",
       "      <th>Survived</th>\n",
       "      <th>Pclass</th>\n",
       "      <th>Age</th>\n",
       "      <th>SibSp</th>\n",
       "      <th>Parch</th>\n",
       "      <th>Fare</th>\n",
       "      <th>kfolds</th>\n",
       "    </tr>\n",
       "  </thead>\n",
       "  <tbody>\n",
       "    <tr>\n",
       "      <th>count</th>\n",
       "      <td>891.000000</td>\n",
       "      <td>891.000000</td>\n",
       "      <td>891.000000</td>\n",
       "      <td>891.000000</td>\n",
       "      <td>714.000000</td>\n",
       "      <td>891.000000</td>\n",
       "      <td>891.000000</td>\n",
       "      <td>891.000000</td>\n",
       "      <td>891.000000</td>\n",
       "    </tr>\n",
       "    <tr>\n",
       "      <th>mean</th>\n",
       "      <td>445.000000</td>\n",
       "      <td>446.000000</td>\n",
       "      <td>0.383838</td>\n",
       "      <td>2.308642</td>\n",
       "      <td>29.699118</td>\n",
       "      <td>0.523008</td>\n",
       "      <td>0.381594</td>\n",
       "      <td>32.204208</td>\n",
       "      <td>1.997755</td>\n",
       "    </tr>\n",
       "    <tr>\n",
       "      <th>std</th>\n",
       "      <td>257.353842</td>\n",
       "      <td>257.353842</td>\n",
       "      <td>0.486592</td>\n",
       "      <td>0.836071</td>\n",
       "      <td>14.526497</td>\n",
       "      <td>1.102743</td>\n",
       "      <td>0.806057</td>\n",
       "      <td>49.693429</td>\n",
       "      <td>1.415800</td>\n",
       "    </tr>\n",
       "    <tr>\n",
       "      <th>min</th>\n",
       "      <td>0.000000</td>\n",
       "      <td>1.000000</td>\n",
       "      <td>0.000000</td>\n",
       "      <td>1.000000</td>\n",
       "      <td>0.420000</td>\n",
       "      <td>0.000000</td>\n",
       "      <td>0.000000</td>\n",
       "      <td>0.000000</td>\n",
       "      <td>0.000000</td>\n",
       "    </tr>\n",
       "    <tr>\n",
       "      <th>25%</th>\n",
       "      <td>222.500000</td>\n",
       "      <td>223.500000</td>\n",
       "      <td>0.000000</td>\n",
       "      <td>2.000000</td>\n",
       "      <td>20.125000</td>\n",
       "      <td>0.000000</td>\n",
       "      <td>0.000000</td>\n",
       "      <td>7.910400</td>\n",
       "      <td>1.000000</td>\n",
       "    </tr>\n",
       "    <tr>\n",
       "      <th>50%</th>\n",
       "      <td>445.000000</td>\n",
       "      <td>446.000000</td>\n",
       "      <td>0.000000</td>\n",
       "      <td>3.000000</td>\n",
       "      <td>28.000000</td>\n",
       "      <td>0.000000</td>\n",
       "      <td>0.000000</td>\n",
       "      <td>14.454200</td>\n",
       "      <td>2.000000</td>\n",
       "    </tr>\n",
       "    <tr>\n",
       "      <th>75%</th>\n",
       "      <td>667.500000</td>\n",
       "      <td>668.500000</td>\n",
       "      <td>1.000000</td>\n",
       "      <td>3.000000</td>\n",
       "      <td>38.000000</td>\n",
       "      <td>1.000000</td>\n",
       "      <td>0.000000</td>\n",
       "      <td>31.000000</td>\n",
       "      <td>3.000000</td>\n",
       "    </tr>\n",
       "    <tr>\n",
       "      <th>max</th>\n",
       "      <td>890.000000</td>\n",
       "      <td>891.000000</td>\n",
       "      <td>1.000000</td>\n",
       "      <td>3.000000</td>\n",
       "      <td>80.000000</td>\n",
       "      <td>8.000000</td>\n",
       "      <td>6.000000</td>\n",
       "      <td>512.329200</td>\n",
       "      <td>4.000000</td>\n",
       "    </tr>\n",
       "  </tbody>\n",
       "</table>\n",
       "</div>"
      ],
      "text/plain": [
       "       Unnamed: 0  PassengerId    Survived      Pclass         Age  \\\n",
       "count  891.000000   891.000000  891.000000  891.000000  714.000000   \n",
       "mean   445.000000   446.000000    0.383838    2.308642   29.699118   \n",
       "std    257.353842   257.353842    0.486592    0.836071   14.526497   \n",
       "min      0.000000     1.000000    0.000000    1.000000    0.420000   \n",
       "25%    222.500000   223.500000    0.000000    2.000000   20.125000   \n",
       "50%    445.000000   446.000000    0.000000    3.000000   28.000000   \n",
       "75%    667.500000   668.500000    1.000000    3.000000   38.000000   \n",
       "max    890.000000   891.000000    1.000000    3.000000   80.000000   \n",
       "\n",
       "            SibSp       Parch        Fare      kfolds  \n",
       "count  891.000000  891.000000  891.000000  891.000000  \n",
       "mean     0.523008    0.381594   32.204208    1.997755  \n",
       "std      1.102743    0.806057   49.693429    1.415800  \n",
       "min      0.000000    0.000000    0.000000    0.000000  \n",
       "25%      0.000000    0.000000    7.910400    1.000000  \n",
       "50%      0.000000    0.000000   14.454200    2.000000  \n",
       "75%      1.000000    0.000000   31.000000    3.000000  \n",
       "max      8.000000    6.000000  512.329200    4.000000  "
      ]
     },
     "execution_count": 5,
     "metadata": {},
     "output_type": "execute_result"
    }
   ],
   "source": [
    "df.describe()"
   ]
  },
  {
   "cell_type": "code",
   "execution_count": 6,
   "id": "medieval-document",
   "metadata": {
    "execution": {
     "iopub.execute_input": "2021-05-04T19:12:13.733363Z",
     "iopub.status.busy": "2021-05-04T19:12:13.732445Z",
     "iopub.status.idle": "2021-05-04T19:12:13.741013Z",
     "shell.execute_reply": "2021-05-04T19:12:13.741492Z"
    },
    "id": "dY6wIvmqsrPn",
    "outputId": "a435c114-ba2d-4520-a467-c547a2bb5cd9",
    "papermill": {
     "duration": 0.055207,
     "end_time": "2021-05-04T19:12:13.741689",
     "exception": false,
     "start_time": "2021-05-04T19:12:13.686482",
     "status": "completed"
    },
    "tags": []
   },
   "outputs": [
    {
     "data": {
      "text/plain": [
       "Unnamed: 0       0\n",
       "PassengerId      0\n",
       "Survived         0\n",
       "Pclass           0\n",
       "Name             0\n",
       "Sex              0\n",
       "Age            177\n",
       "SibSp            0\n",
       "Parch            0\n",
       "Ticket           0\n",
       "Fare             0\n",
       "Cabin          687\n",
       "Embarked         2\n",
       "kfolds           0\n",
       "dtype: int64"
      ]
     },
     "execution_count": 6,
     "metadata": {},
     "output_type": "execute_result"
    }
   ],
   "source": [
    "# Count the number of null values in each column\n",
    "df.isna().sum()"
   ]
  },
  {
   "cell_type": "code",
   "execution_count": 7,
   "id": "diagnostic-remainder",
   "metadata": {
    "execution": {
     "iopub.execute_input": "2021-05-04T19:12:13.831594Z",
     "iopub.status.busy": "2021-05-04T19:12:13.830566Z",
     "iopub.status.idle": "2021-05-04T19:12:13.836281Z",
     "shell.execute_reply": "2021-05-04T19:12:13.836796Z"
    },
    "id": "BjCFULqrtwwL",
    "outputId": "785cd184-241f-4452-ba29-29d2d3eb9a39",
    "papermill": {
     "duration": 0.053264,
     "end_time": "2021-05-04T19:12:13.836983",
     "exception": false,
     "start_time": "2021-05-04T19:12:13.783719",
     "status": "completed"
    },
    "tags": []
   },
   "outputs": [
    {
     "data": {
      "text/plain": [
       "891"
      ]
     },
     "execution_count": 7,
     "metadata": {},
     "output_type": "execute_result"
    }
   ],
   "source": [
    "# Total number of rows\n",
    "len(df)"
   ]
  },
  {
   "cell_type": "code",
   "execution_count": 8,
   "id": "proper-story",
   "metadata": {
    "execution": {
     "iopub.execute_input": "2021-05-04T19:12:13.927384Z",
     "iopub.status.busy": "2021-05-04T19:12:13.926395Z",
     "iopub.status.idle": "2021-05-04T19:12:13.945861Z",
     "shell.execute_reply": "2021-05-04T19:12:13.945140Z"
    },
    "id": "X_lKeQlLuVj_",
    "outputId": "cd61e23f-5f38-4120-9c84-b637050b175a",
    "papermill": {
     "duration": 0.06596,
     "end_time": "2021-05-04T19:12:13.946034",
     "exception": false,
     "start_time": "2021-05-04T19:12:13.880074",
     "status": "completed"
    },
    "tags": []
   },
   "outputs": [
    {
     "data": {
      "text/plain": [
       "Unnamed: 0     891\n",
       "PassengerId    891\n",
       "Survived         2\n",
       "Pclass           3\n",
       "Name           891\n",
       "Sex              2\n",
       "Age             88\n",
       "SibSp            7\n",
       "Parch            7\n",
       "Ticket         681\n",
       "Fare           248\n",
       "Cabin          147\n",
       "Embarked         3\n",
       "kfolds           5\n",
       "dtype: int64"
      ]
     },
     "execution_count": 8,
     "metadata": {},
     "output_type": "execute_result"
    }
   ],
   "source": [
    "# Total number of unique values in each column\n",
    "df.nunique()"
   ]
  },
  {
   "cell_type": "code",
   "execution_count": 9,
   "id": "laden-smoke",
   "metadata": {
    "execution": {
     "iopub.execute_input": "2021-05-04T19:12:14.040040Z",
     "iopub.status.busy": "2021-05-04T19:12:14.039073Z",
     "iopub.status.idle": "2021-05-04T19:12:14.047423Z",
     "shell.execute_reply": "2021-05-04T19:12:14.046735Z"
    },
    "id": "bJh0SDMQu6h2",
    "outputId": "a1acbb36-21b5-4588-b92b-81c16dcfc1c7",
    "papermill": {
     "duration": 0.057078,
     "end_time": "2021-05-04T19:12:14.047601",
     "exception": false,
     "start_time": "2021-05-04T19:12:13.990523",
     "status": "completed"
    },
    "tags": []
   },
   "outputs": [
    {
     "data": {
      "text/plain": [
       "0    549\n",
       "1    342\n",
       "Name: Survived, dtype: int64"
      ]
     },
     "execution_count": 9,
     "metadata": {},
     "output_type": "execute_result"
    }
   ],
   "source": [
    "# Check for class imbalance \n",
    "df['Survived'].value_counts()"
   ]
  },
  {
   "cell_type": "markdown",
   "id": "scenic-hundred",
   "metadata": {
    "id": "vcw1aQOv0tc8",
    "papermill": {
     "duration": 0.045388,
     "end_time": "2021-05-04T19:12:14.137913",
     "exception": false,
     "start_time": "2021-05-04T19:12:14.092525",
     "status": "completed"
    },
    "tags": []
   },
   "source": [
    "#### Drop Columns based on the number of unique values and number of null values (both should be sufficiently large to drop) "
   ]
  },
  {
   "cell_type": "code",
   "execution_count": 10,
   "id": "functioning-living",
   "metadata": {
    "execution": {
     "iopub.execute_input": "2021-05-04T19:12:14.232232Z",
     "iopub.status.busy": "2021-05-04T19:12:14.231201Z",
     "iopub.status.idle": "2021-05-04T19:12:14.246704Z",
     "shell.execute_reply": "2021-05-04T19:12:14.247111Z"
    },
    "id": "zSvc2XpouNiO",
    "outputId": "24ad0bf1-d4ca-4b98-f498-4904908e4664",
    "papermill": {
     "duration": 0.063319,
     "end_time": "2021-05-04T19:12:14.247321",
     "exception": false,
     "start_time": "2021-05-04T19:12:14.184002",
     "status": "completed"
    },
    "tags": []
   },
   "outputs": [
    {
     "data": {
      "text/html": [
       "<div>\n",
       "<style scoped>\n",
       "    .dataframe tbody tr th:only-of-type {\n",
       "        vertical-align: middle;\n",
       "    }\n",
       "\n",
       "    .dataframe tbody tr th {\n",
       "        vertical-align: top;\n",
       "    }\n",
       "\n",
       "    .dataframe thead th {\n",
       "        text-align: right;\n",
       "    }\n",
       "</style>\n",
       "<table border=\"1\" class=\"dataframe\">\n",
       "  <thead>\n",
       "    <tr style=\"text-align: right;\">\n",
       "      <th></th>\n",
       "      <th>Survived</th>\n",
       "      <th>Pclass</th>\n",
       "      <th>Sex</th>\n",
       "      <th>Age</th>\n",
       "      <th>SibSp</th>\n",
       "      <th>Parch</th>\n",
       "      <th>Fare</th>\n",
       "      <th>Embarked</th>\n",
       "      <th>kfolds</th>\n",
       "    </tr>\n",
       "  </thead>\n",
       "  <tbody>\n",
       "    <tr>\n",
       "      <th>0</th>\n",
       "      <td>0</td>\n",
       "      <td>3</td>\n",
       "      <td>male</td>\n",
       "      <td>21.0</td>\n",
       "      <td>0</td>\n",
       "      <td>0</td>\n",
       "      <td>7.7750</td>\n",
       "      <td>S</td>\n",
       "      <td>0</td>\n",
       "    </tr>\n",
       "    <tr>\n",
       "      <th>1</th>\n",
       "      <td>0</td>\n",
       "      <td>3</td>\n",
       "      <td>male</td>\n",
       "      <td>32.0</td>\n",
       "      <td>1</td>\n",
       "      <td>0</td>\n",
       "      <td>15.8500</td>\n",
       "      <td>S</td>\n",
       "      <td>0</td>\n",
       "    </tr>\n",
       "    <tr>\n",
       "      <th>2</th>\n",
       "      <td>0</td>\n",
       "      <td>3</td>\n",
       "      <td>male</td>\n",
       "      <td>34.0</td>\n",
       "      <td>1</td>\n",
       "      <td>1</td>\n",
       "      <td>14.4000</td>\n",
       "      <td>S</td>\n",
       "      <td>0</td>\n",
       "    </tr>\n",
       "    <tr>\n",
       "      <th>3</th>\n",
       "      <td>1</td>\n",
       "      <td>3</td>\n",
       "      <td>male</td>\n",
       "      <td>27.0</td>\n",
       "      <td>0</td>\n",
       "      <td>0</td>\n",
       "      <td>8.6625</td>\n",
       "      <td>S</td>\n",
       "      <td>0</td>\n",
       "    </tr>\n",
       "    <tr>\n",
       "      <th>4</th>\n",
       "      <td>0</td>\n",
       "      <td>3</td>\n",
       "      <td>female</td>\n",
       "      <td>25.0</td>\n",
       "      <td>0</td>\n",
       "      <td>0</td>\n",
       "      <td>7.7750</td>\n",
       "      <td>S</td>\n",
       "      <td>0</td>\n",
       "    </tr>\n",
       "  </tbody>\n",
       "</table>\n",
       "</div>"
      ],
      "text/plain": [
       "   Survived  Pclass     Sex   Age  SibSp  Parch     Fare Embarked  kfolds\n",
       "0         0       3    male  21.0      0      0   7.7750        S       0\n",
       "1         0       3    male  32.0      1      0  15.8500        S       0\n",
       "2         0       3    male  34.0      1      1  14.4000        S       0\n",
       "3         1       3    male  27.0      0      0   8.6625        S       0\n",
       "4         0       3  female  25.0      0      0   7.7750        S       0"
      ]
     },
     "execution_count": 10,
     "metadata": {},
     "output_type": "execute_result"
    }
   ],
   "source": [
    "# Unnamed:0 , Name and PassengerId have all different values so no value can determine the result\n",
    "# Ticket also has lots of different values\n",
    "# Cabin has lots of null values\n",
    "df=df.drop(['Cabin','Name','PassengerId','Unnamed: 0','Ticket'],axis=1)\n",
    "df.head()"
   ]
  },
  {
   "cell_type": "markdown",
   "id": "ruled-california",
   "metadata": {
    "id": "0abjLJP512pU",
    "papermill": {
     "duration": 0.044829,
     "end_time": "2021-05-04T19:12:14.336613",
     "exception": false,
     "start_time": "2021-05-04T19:12:14.291784",
     "status": "completed"
    },
    "tags": []
   },
   "source": [
    "#### Imputer to fill in missing values\n",
    "\n",
    "1.   KNN Imputer\n",
    "2.   Iterative Imputer\n",
    "\n"
   ]
  },
  {
   "cell_type": "code",
   "execution_count": 11,
   "id": "gross-curve",
   "metadata": {
    "execution": {
     "iopub.execute_input": "2021-05-04T19:12:14.430113Z",
     "iopub.status.busy": "2021-05-04T19:12:14.429403Z",
     "iopub.status.idle": "2021-05-04T19:12:14.468757Z",
     "shell.execute_reply": "2021-05-04T19:12:14.468193Z"
    },
    "id": "G-uOVfe-u5z7",
    "outputId": "739cff66-8a10-4d96-866d-3a932c9f27ff",
    "papermill": {
     "duration": 0.087394,
     "end_time": "2021-05-04T19:12:14.468913",
     "exception": false,
     "start_time": "2021-05-04T19:12:14.381519",
     "status": "completed"
    },
    "tags": []
   },
   "outputs": [
    {
     "data": {
      "text/html": [
       "<div>\n",
       "<style scoped>\n",
       "    .dataframe tbody tr th:only-of-type {\n",
       "        vertical-align: middle;\n",
       "    }\n",
       "\n",
       "    .dataframe tbody tr th {\n",
       "        vertical-align: top;\n",
       "    }\n",
       "\n",
       "    .dataframe thead th {\n",
       "        text-align: right;\n",
       "    }\n",
       "</style>\n",
       "<table border=\"1\" class=\"dataframe\">\n",
       "  <thead>\n",
       "    <tr style=\"text-align: right;\">\n",
       "      <th></th>\n",
       "      <th>Survived</th>\n",
       "      <th>Pclass</th>\n",
       "      <th>Sex</th>\n",
       "      <th>Age</th>\n",
       "      <th>SibSp</th>\n",
       "      <th>Parch</th>\n",
       "      <th>Fare</th>\n",
       "      <th>Embarked</th>\n",
       "      <th>kfolds</th>\n",
       "    </tr>\n",
       "  </thead>\n",
       "  <tbody>\n",
       "    <tr>\n",
       "      <th>0</th>\n",
       "      <td>0</td>\n",
       "      <td>3</td>\n",
       "      <td>male</td>\n",
       "      <td>21.0</td>\n",
       "      <td>0</td>\n",
       "      <td>0</td>\n",
       "      <td>7.7750</td>\n",
       "      <td>S</td>\n",
       "      <td>0</td>\n",
       "    </tr>\n",
       "    <tr>\n",
       "      <th>1</th>\n",
       "      <td>0</td>\n",
       "      <td>3</td>\n",
       "      <td>male</td>\n",
       "      <td>32.0</td>\n",
       "      <td>1</td>\n",
       "      <td>0</td>\n",
       "      <td>15.8500</td>\n",
       "      <td>S</td>\n",
       "      <td>0</td>\n",
       "    </tr>\n",
       "    <tr>\n",
       "      <th>2</th>\n",
       "      <td>0</td>\n",
       "      <td>3</td>\n",
       "      <td>male</td>\n",
       "      <td>34.0</td>\n",
       "      <td>1</td>\n",
       "      <td>1</td>\n",
       "      <td>14.4000</td>\n",
       "      <td>S</td>\n",
       "      <td>0</td>\n",
       "    </tr>\n",
       "    <tr>\n",
       "      <th>3</th>\n",
       "      <td>1</td>\n",
       "      <td>3</td>\n",
       "      <td>male</td>\n",
       "      <td>27.0</td>\n",
       "      <td>0</td>\n",
       "      <td>0</td>\n",
       "      <td>8.6625</td>\n",
       "      <td>S</td>\n",
       "      <td>0</td>\n",
       "    </tr>\n",
       "    <tr>\n",
       "      <th>4</th>\n",
       "      <td>0</td>\n",
       "      <td>3</td>\n",
       "      <td>female</td>\n",
       "      <td>25.0</td>\n",
       "      <td>0</td>\n",
       "      <td>0</td>\n",
       "      <td>7.7750</td>\n",
       "      <td>S</td>\n",
       "      <td>0</td>\n",
       "    </tr>\n",
       "  </tbody>\n",
       "</table>\n",
       "</div>"
      ],
      "text/plain": [
       "   Survived  Pclass     Sex   Age  SibSp  Parch     Fare Embarked  kfolds\n",
       "0         0       3    male  21.0      0      0   7.7750        S       0\n",
       "1         0       3    male  32.0      1      0  15.8500        S       0\n",
       "2         0       3    male  34.0      1      1  14.4000        S       0\n",
       "3         1       3    male  27.0      0      0   8.6625        S       0\n",
       "4         0       3  female  25.0      0      0   7.7750        S       0"
      ]
     },
     "execution_count": 11,
     "metadata": {},
     "output_type": "execute_result"
    }
   ],
   "source": [
    "# Use KNN Imputer to fill missing values\n",
    "\n",
    "from sklearn.impute import KNNImputer\n",
    "imputer=KNNImputer(n_neighbors=3)\n",
    "\n",
    "df_knn_imputed=df\n",
    "df_knn_imputed['Age']=imputer.fit_transform(df_knn_imputed['Age'].values.reshape(-1,1))\n",
    "df_knn_imputed.head()"
   ]
  },
  {
   "cell_type": "code",
   "execution_count": 12,
   "id": "personalized-hanging",
   "metadata": {
    "execution": {
     "iopub.execute_input": "2021-05-04T19:12:14.565364Z",
     "iopub.status.busy": "2021-05-04T19:12:14.564547Z",
     "iopub.status.idle": "2021-05-04T19:12:14.589887Z",
     "shell.execute_reply": "2021-05-04T19:12:14.589268Z"
    },
    "id": "JxSABL5ms7T2",
    "outputId": "6f7b0be4-ebdc-4e12-b07e-71e0ffd23533",
    "papermill": {
     "duration": 0.075841,
     "end_time": "2021-05-04T19:12:14.590063",
     "exception": false,
     "start_time": "2021-05-04T19:12:14.514222",
     "status": "completed"
    },
    "tags": []
   },
   "outputs": [
    {
     "data": {
      "text/html": [
       "<div>\n",
       "<style scoped>\n",
       "    .dataframe tbody tr th:only-of-type {\n",
       "        vertical-align: middle;\n",
       "    }\n",
       "\n",
       "    .dataframe tbody tr th {\n",
       "        vertical-align: top;\n",
       "    }\n",
       "\n",
       "    .dataframe thead th {\n",
       "        text-align: right;\n",
       "    }\n",
       "</style>\n",
       "<table border=\"1\" class=\"dataframe\">\n",
       "  <thead>\n",
       "    <tr style=\"text-align: right;\">\n",
       "      <th></th>\n",
       "      <th>Survived</th>\n",
       "      <th>Pclass</th>\n",
       "      <th>Sex</th>\n",
       "      <th>Age</th>\n",
       "      <th>SibSp</th>\n",
       "      <th>Parch</th>\n",
       "      <th>Fare</th>\n",
       "      <th>Embarked</th>\n",
       "      <th>kfolds</th>\n",
       "    </tr>\n",
       "  </thead>\n",
       "  <tbody>\n",
       "    <tr>\n",
       "      <th>0</th>\n",
       "      <td>0</td>\n",
       "      <td>3</td>\n",
       "      <td>male</td>\n",
       "      <td>21.0</td>\n",
       "      <td>0</td>\n",
       "      <td>0</td>\n",
       "      <td>7.7750</td>\n",
       "      <td>S</td>\n",
       "      <td>0</td>\n",
       "    </tr>\n",
       "    <tr>\n",
       "      <th>1</th>\n",
       "      <td>0</td>\n",
       "      <td>3</td>\n",
       "      <td>male</td>\n",
       "      <td>32.0</td>\n",
       "      <td>1</td>\n",
       "      <td>0</td>\n",
       "      <td>15.8500</td>\n",
       "      <td>S</td>\n",
       "      <td>0</td>\n",
       "    </tr>\n",
       "    <tr>\n",
       "      <th>2</th>\n",
       "      <td>0</td>\n",
       "      <td>3</td>\n",
       "      <td>male</td>\n",
       "      <td>34.0</td>\n",
       "      <td>1</td>\n",
       "      <td>1</td>\n",
       "      <td>14.4000</td>\n",
       "      <td>S</td>\n",
       "      <td>0</td>\n",
       "    </tr>\n",
       "    <tr>\n",
       "      <th>3</th>\n",
       "      <td>1</td>\n",
       "      <td>3</td>\n",
       "      <td>male</td>\n",
       "      <td>27.0</td>\n",
       "      <td>0</td>\n",
       "      <td>0</td>\n",
       "      <td>8.6625</td>\n",
       "      <td>S</td>\n",
       "      <td>0</td>\n",
       "    </tr>\n",
       "    <tr>\n",
       "      <th>4</th>\n",
       "      <td>0</td>\n",
       "      <td>3</td>\n",
       "      <td>female</td>\n",
       "      <td>25.0</td>\n",
       "      <td>0</td>\n",
       "      <td>0</td>\n",
       "      <td>7.7750</td>\n",
       "      <td>S</td>\n",
       "      <td>0</td>\n",
       "    </tr>\n",
       "  </tbody>\n",
       "</table>\n",
       "</div>"
      ],
      "text/plain": [
       "   Survived  Pclass     Sex   Age  SibSp  Parch     Fare Embarked  kfolds\n",
       "0         0       3    male  21.0      0      0   7.7750        S       0\n",
       "1         0       3    male  32.0      1      0  15.8500        S       0\n",
       "2         0       3    male  34.0      1      1  14.4000        S       0\n",
       "3         1       3    male  27.0      0      0   8.6625        S       0\n",
       "4         0       3  female  25.0      0      0   7.7750        S       0"
      ]
     },
     "execution_count": 12,
     "metadata": {},
     "output_type": "execute_result"
    }
   ],
   "source": [
    "# Use Iterative Imputer to fill missing values\n",
    "\n",
    "from sklearn.experimental import enable_iterative_imputer\n",
    "from sklearn.impute import IterativeImputer\n",
    "import numpy as np\n",
    "imputer=IterativeImputer(random_state=42)\n",
    "\n",
    "df_iter_imputed=df\n",
    "df_iter_imputed['Age']=imputer.fit_transform(df_iter_imputed['Age'].values.reshape(-1,1))\n",
    "df_iter_imputed.head()"
   ]
  },
  {
   "cell_type": "markdown",
   "id": "political-operator",
   "metadata": {
    "id": "bVwkICmP5Qg1",
    "papermill": {
     "duration": 0.046791,
     "end_time": "2021-05-04T19:12:14.682606",
     "exception": false,
     "start_time": "2021-05-04T19:12:14.635815",
     "status": "completed"
    },
    "tags": []
   },
   "source": [
    "#### One hot encode categorical features"
   ]
  },
  {
   "cell_type": "code",
   "execution_count": 13,
   "id": "generic-replication",
   "metadata": {
    "execution": {
     "iopub.execute_input": "2021-05-04T19:12:14.777325Z",
     "iopub.status.busy": "2021-05-04T19:12:14.776615Z",
     "iopub.status.idle": "2021-05-04T19:12:14.798362Z",
     "shell.execute_reply": "2021-05-04T19:12:14.798785Z"
    },
    "id": "1FA5NMs2YBUZ",
    "outputId": "8b9a8257-f73d-4b9a-ba34-5e167187d34e",
    "papermill": {
     "duration": 0.071093,
     "end_time": "2021-05-04T19:12:14.798976",
     "exception": false,
     "start_time": "2021-05-04T19:12:14.727883",
     "status": "completed"
    },
    "tags": []
   },
   "outputs": [
    {
     "data": {
      "text/html": [
       "<div>\n",
       "<style scoped>\n",
       "    .dataframe tbody tr th:only-of-type {\n",
       "        vertical-align: middle;\n",
       "    }\n",
       "\n",
       "    .dataframe tbody tr th {\n",
       "        vertical-align: top;\n",
       "    }\n",
       "\n",
       "    .dataframe thead th {\n",
       "        text-align: right;\n",
       "    }\n",
       "</style>\n",
       "<table border=\"1\" class=\"dataframe\">\n",
       "  <thead>\n",
       "    <tr style=\"text-align: right;\">\n",
       "      <th></th>\n",
       "      <th>Survived</th>\n",
       "      <th>Pclass</th>\n",
       "      <th>Age</th>\n",
       "      <th>SibSp</th>\n",
       "      <th>Parch</th>\n",
       "      <th>Fare</th>\n",
       "      <th>kfolds</th>\n",
       "      <th>Sex_female</th>\n",
       "      <th>Sex_male</th>\n",
       "      <th>Embarked_C</th>\n",
       "      <th>Embarked_Q</th>\n",
       "      <th>Embarked_S</th>\n",
       "    </tr>\n",
       "  </thead>\n",
       "  <tbody>\n",
       "    <tr>\n",
       "      <th>0</th>\n",
       "      <td>0</td>\n",
       "      <td>3</td>\n",
       "      <td>21.0</td>\n",
       "      <td>0</td>\n",
       "      <td>0</td>\n",
       "      <td>7.7750</td>\n",
       "      <td>0</td>\n",
       "      <td>0</td>\n",
       "      <td>1</td>\n",
       "      <td>0</td>\n",
       "      <td>0</td>\n",
       "      <td>1</td>\n",
       "    </tr>\n",
       "    <tr>\n",
       "      <th>1</th>\n",
       "      <td>0</td>\n",
       "      <td>3</td>\n",
       "      <td>32.0</td>\n",
       "      <td>1</td>\n",
       "      <td>0</td>\n",
       "      <td>15.8500</td>\n",
       "      <td>0</td>\n",
       "      <td>0</td>\n",
       "      <td>1</td>\n",
       "      <td>0</td>\n",
       "      <td>0</td>\n",
       "      <td>1</td>\n",
       "    </tr>\n",
       "    <tr>\n",
       "      <th>2</th>\n",
       "      <td>0</td>\n",
       "      <td>3</td>\n",
       "      <td>34.0</td>\n",
       "      <td>1</td>\n",
       "      <td>1</td>\n",
       "      <td>14.4000</td>\n",
       "      <td>0</td>\n",
       "      <td>0</td>\n",
       "      <td>1</td>\n",
       "      <td>0</td>\n",
       "      <td>0</td>\n",
       "      <td>1</td>\n",
       "    </tr>\n",
       "    <tr>\n",
       "      <th>3</th>\n",
       "      <td>1</td>\n",
       "      <td>3</td>\n",
       "      <td>27.0</td>\n",
       "      <td>0</td>\n",
       "      <td>0</td>\n",
       "      <td>8.6625</td>\n",
       "      <td>0</td>\n",
       "      <td>0</td>\n",
       "      <td>1</td>\n",
       "      <td>0</td>\n",
       "      <td>0</td>\n",
       "      <td>1</td>\n",
       "    </tr>\n",
       "    <tr>\n",
       "      <th>4</th>\n",
       "      <td>0</td>\n",
       "      <td>3</td>\n",
       "      <td>25.0</td>\n",
       "      <td>0</td>\n",
       "      <td>0</td>\n",
       "      <td>7.7750</td>\n",
       "      <td>0</td>\n",
       "      <td>1</td>\n",
       "      <td>0</td>\n",
       "      <td>0</td>\n",
       "      <td>0</td>\n",
       "      <td>1</td>\n",
       "    </tr>\n",
       "  </tbody>\n",
       "</table>\n",
       "</div>"
      ],
      "text/plain": [
       "   Survived  Pclass   Age  SibSp  Parch     Fare  kfolds  Sex_female  \\\n",
       "0         0       3  21.0      0      0   7.7750       0           0   \n",
       "1         0       3  32.0      1      0  15.8500       0           0   \n",
       "2         0       3  34.0      1      1  14.4000       0           0   \n",
       "3         1       3  27.0      0      0   8.6625       0           0   \n",
       "4         0       3  25.0      0      0   7.7750       0           1   \n",
       "\n",
       "   Sex_male  Embarked_C  Embarked_Q  Embarked_S  \n",
       "0         1           0           0           1  \n",
       "1         1           0           0           1  \n",
       "2         1           0           0           1  \n",
       "3         1           0           0           1  \n",
       "4         0           0           0           1  "
      ]
     },
     "execution_count": 13,
     "metadata": {},
     "output_type": "execute_result"
    }
   ],
   "source": [
    "# One hot encode the categorical columns - Sex and Embarked\n",
    "\n",
    "df=pd.get_dummies(data=df_iter_imputed,columns=['Sex','Embarked'])\n",
    "df.head()"
   ]
  },
  {
   "cell_type": "markdown",
   "id": "iraqi-voluntary",
   "metadata": {
    "id": "5pEeSopU5Xt3",
    "papermill": {
     "duration": 0.044986,
     "end_time": "2021-05-04T19:12:14.891409",
     "exception": false,
     "start_time": "2021-05-04T19:12:14.846423",
     "status": "completed"
    },
    "tags": []
   },
   "source": [
    "#### Move the Survived and kfolds column to the end"
   ]
  },
  {
   "cell_type": "code",
   "execution_count": 14,
   "id": "selected-malpractice",
   "metadata": {
    "execution": {
     "iopub.execute_input": "2021-05-04T19:12:14.986996Z",
     "iopub.status.busy": "2021-05-04T19:12:14.986410Z",
     "iopub.status.idle": "2021-05-04T19:12:15.003240Z",
     "shell.execute_reply": "2021-05-04T19:12:15.003741Z"
    },
    "id": "siRqqZzj7MeE",
    "outputId": "dc967404-2a47-492a-b4ed-f2ba7c4cb941",
    "papermill": {
     "duration": 0.066887,
     "end_time": "2021-05-04T19:12:15.003983",
     "exception": false,
     "start_time": "2021-05-04T19:12:14.937096",
     "status": "completed"
    },
    "tags": []
   },
   "outputs": [
    {
     "data": {
      "text/html": [
       "<div>\n",
       "<style scoped>\n",
       "    .dataframe tbody tr th:only-of-type {\n",
       "        vertical-align: middle;\n",
       "    }\n",
       "\n",
       "    .dataframe tbody tr th {\n",
       "        vertical-align: top;\n",
       "    }\n",
       "\n",
       "    .dataframe thead th {\n",
       "        text-align: right;\n",
       "    }\n",
       "</style>\n",
       "<table border=\"1\" class=\"dataframe\">\n",
       "  <thead>\n",
       "    <tr style=\"text-align: right;\">\n",
       "      <th></th>\n",
       "      <th>Pclass</th>\n",
       "      <th>Age</th>\n",
       "      <th>SibSp</th>\n",
       "      <th>Parch</th>\n",
       "      <th>Fare</th>\n",
       "      <th>Sex_female</th>\n",
       "      <th>Sex_male</th>\n",
       "      <th>Embarked_C</th>\n",
       "      <th>Embarked_Q</th>\n",
       "      <th>Embarked_S</th>\n",
       "      <th>Survived</th>\n",
       "      <th>kfolds</th>\n",
       "    </tr>\n",
       "  </thead>\n",
       "  <tbody>\n",
       "    <tr>\n",
       "      <th>0</th>\n",
       "      <td>3</td>\n",
       "      <td>21.0</td>\n",
       "      <td>0</td>\n",
       "      <td>0</td>\n",
       "      <td>7.7750</td>\n",
       "      <td>0</td>\n",
       "      <td>1</td>\n",
       "      <td>0</td>\n",
       "      <td>0</td>\n",
       "      <td>1</td>\n",
       "      <td>0</td>\n",
       "      <td>0</td>\n",
       "    </tr>\n",
       "    <tr>\n",
       "      <th>1</th>\n",
       "      <td>3</td>\n",
       "      <td>32.0</td>\n",
       "      <td>1</td>\n",
       "      <td>0</td>\n",
       "      <td>15.8500</td>\n",
       "      <td>0</td>\n",
       "      <td>1</td>\n",
       "      <td>0</td>\n",
       "      <td>0</td>\n",
       "      <td>1</td>\n",
       "      <td>0</td>\n",
       "      <td>0</td>\n",
       "    </tr>\n",
       "    <tr>\n",
       "      <th>2</th>\n",
       "      <td>3</td>\n",
       "      <td>34.0</td>\n",
       "      <td>1</td>\n",
       "      <td>1</td>\n",
       "      <td>14.4000</td>\n",
       "      <td>0</td>\n",
       "      <td>1</td>\n",
       "      <td>0</td>\n",
       "      <td>0</td>\n",
       "      <td>1</td>\n",
       "      <td>0</td>\n",
       "      <td>0</td>\n",
       "    </tr>\n",
       "    <tr>\n",
       "      <th>3</th>\n",
       "      <td>3</td>\n",
       "      <td>27.0</td>\n",
       "      <td>0</td>\n",
       "      <td>0</td>\n",
       "      <td>8.6625</td>\n",
       "      <td>0</td>\n",
       "      <td>1</td>\n",
       "      <td>0</td>\n",
       "      <td>0</td>\n",
       "      <td>1</td>\n",
       "      <td>1</td>\n",
       "      <td>0</td>\n",
       "    </tr>\n",
       "    <tr>\n",
       "      <th>4</th>\n",
       "      <td>3</td>\n",
       "      <td>25.0</td>\n",
       "      <td>0</td>\n",
       "      <td>0</td>\n",
       "      <td>7.7750</td>\n",
       "      <td>1</td>\n",
       "      <td>0</td>\n",
       "      <td>0</td>\n",
       "      <td>0</td>\n",
       "      <td>1</td>\n",
       "      <td>0</td>\n",
       "      <td>0</td>\n",
       "    </tr>\n",
       "  </tbody>\n",
       "</table>\n",
       "</div>"
      ],
      "text/plain": [
       "   Pclass   Age  SibSp  Parch     Fare  Sex_female  Sex_male  Embarked_C  \\\n",
       "0       3  21.0      0      0   7.7750           0         1           0   \n",
       "1       3  32.0      1      0  15.8500           0         1           0   \n",
       "2       3  34.0      1      1  14.4000           0         1           0   \n",
       "3       3  27.0      0      0   8.6625           0         1           0   \n",
       "4       3  25.0      0      0   7.7750           1         0           0   \n",
       "\n",
       "   Embarked_Q  Embarked_S  Survived  kfolds  \n",
       "0           0           1         0       0  \n",
       "1           0           1         0       0  \n",
       "2           0           1         0       0  \n",
       "3           0           1         1       0  \n",
       "4           0           1         0       0  "
      ]
     },
     "execution_count": 14,
     "metadata": {},
     "output_type": "execute_result"
    }
   ],
   "source": [
    "# Move the target and kfolds column to the last\n",
    "\n",
    "df=df[[column for column in df if column not in['Survived','kfolds']]+['Survived','kfolds']]\n",
    "df.head()"
   ]
  },
  {
   "cell_type": "markdown",
   "id": "placed-nomination",
   "metadata": {
    "id": "J6xQKmvE7-D_",
    "papermill": {
     "duration": 0.04677,
     "end_time": "2021-05-04T19:12:15.097288",
     "exception": false,
     "start_time": "2021-05-04T19:12:15.050518",
     "status": "completed"
    },
    "tags": []
   },
   "source": [
    "#### MinMax Scaler"
   ]
  },
  {
   "cell_type": "code",
   "execution_count": 15,
   "id": "solar-genius",
   "metadata": {
    "execution": {
     "iopub.execute_input": "2021-05-04T19:12:15.202234Z",
     "iopub.status.busy": "2021-05-04T19:12:15.201518Z",
     "iopub.status.idle": "2021-05-04T19:12:15.220991Z",
     "shell.execute_reply": "2021-05-04T19:12:15.221503Z"
    },
    "id": "obxZul1fwINo",
    "outputId": "fe6ff551-8a1a-4ccf-ca25-002621af2b29",
    "papermill": {
     "duration": 0.076304,
     "end_time": "2021-05-04T19:12:15.221736",
     "exception": false,
     "start_time": "2021-05-04T19:12:15.145432",
     "status": "completed"
    },
    "tags": []
   },
   "outputs": [
    {
     "data": {
      "text/html": [
       "<div>\n",
       "<style scoped>\n",
       "    .dataframe tbody tr th:only-of-type {\n",
       "        vertical-align: middle;\n",
       "    }\n",
       "\n",
       "    .dataframe tbody tr th {\n",
       "        vertical-align: top;\n",
       "    }\n",
       "\n",
       "    .dataframe thead th {\n",
       "        text-align: right;\n",
       "    }\n",
       "</style>\n",
       "<table border=\"1\" class=\"dataframe\">\n",
       "  <thead>\n",
       "    <tr style=\"text-align: right;\">\n",
       "      <th></th>\n",
       "      <th>Pclass</th>\n",
       "      <th>Age</th>\n",
       "      <th>SibSp</th>\n",
       "      <th>Parch</th>\n",
       "      <th>Fare</th>\n",
       "      <th>Sex_female</th>\n",
       "      <th>Sex_male</th>\n",
       "      <th>Embarked_C</th>\n",
       "      <th>Embarked_Q</th>\n",
       "      <th>Embarked_S</th>\n",
       "      <th>Survived</th>\n",
       "      <th>kfolds</th>\n",
       "    </tr>\n",
       "  </thead>\n",
       "  <tbody>\n",
       "    <tr>\n",
       "      <th>0</th>\n",
       "      <td>1.0</td>\n",
       "      <td>0.258608</td>\n",
       "      <td>0.000</td>\n",
       "      <td>0.000000</td>\n",
       "      <td>0.015176</td>\n",
       "      <td>0.0</td>\n",
       "      <td>1.0</td>\n",
       "      <td>0.0</td>\n",
       "      <td>0.0</td>\n",
       "      <td>1.0</td>\n",
       "      <td>0</td>\n",
       "      <td>0</td>\n",
       "    </tr>\n",
       "    <tr>\n",
       "      <th>1</th>\n",
       "      <td>1.0</td>\n",
       "      <td>0.396833</td>\n",
       "      <td>0.125</td>\n",
       "      <td>0.000000</td>\n",
       "      <td>0.030937</td>\n",
       "      <td>0.0</td>\n",
       "      <td>1.0</td>\n",
       "      <td>0.0</td>\n",
       "      <td>0.0</td>\n",
       "      <td>1.0</td>\n",
       "      <td>0</td>\n",
       "      <td>0</td>\n",
       "    </tr>\n",
       "    <tr>\n",
       "      <th>2</th>\n",
       "      <td>1.0</td>\n",
       "      <td>0.421965</td>\n",
       "      <td>0.125</td>\n",
       "      <td>0.166667</td>\n",
       "      <td>0.028107</td>\n",
       "      <td>0.0</td>\n",
       "      <td>1.0</td>\n",
       "      <td>0.0</td>\n",
       "      <td>0.0</td>\n",
       "      <td>1.0</td>\n",
       "      <td>0</td>\n",
       "      <td>0</td>\n",
       "    </tr>\n",
       "    <tr>\n",
       "      <th>3</th>\n",
       "      <td>1.0</td>\n",
       "      <td>0.334004</td>\n",
       "      <td>0.000</td>\n",
       "      <td>0.000000</td>\n",
       "      <td>0.016908</td>\n",
       "      <td>0.0</td>\n",
       "      <td>1.0</td>\n",
       "      <td>0.0</td>\n",
       "      <td>0.0</td>\n",
       "      <td>1.0</td>\n",
       "      <td>1</td>\n",
       "      <td>0</td>\n",
       "    </tr>\n",
       "    <tr>\n",
       "      <th>4</th>\n",
       "      <td>1.0</td>\n",
       "      <td>0.308872</td>\n",
       "      <td>0.000</td>\n",
       "      <td>0.000000</td>\n",
       "      <td>0.015176</td>\n",
       "      <td>1.0</td>\n",
       "      <td>0.0</td>\n",
       "      <td>0.0</td>\n",
       "      <td>0.0</td>\n",
       "      <td>1.0</td>\n",
       "      <td>0</td>\n",
       "      <td>0</td>\n",
       "    </tr>\n",
       "  </tbody>\n",
       "</table>\n",
       "</div>"
      ],
      "text/plain": [
       "   Pclass       Age  SibSp     Parch      Fare  Sex_female  Sex_male  \\\n",
       "0     1.0  0.258608  0.000  0.000000  0.015176         0.0       1.0   \n",
       "1     1.0  0.396833  0.125  0.000000  0.030937         0.0       1.0   \n",
       "2     1.0  0.421965  0.125  0.166667  0.028107         0.0       1.0   \n",
       "3     1.0  0.334004  0.000  0.000000  0.016908         0.0       1.0   \n",
       "4     1.0  0.308872  0.000  0.000000  0.015176         1.0       0.0   \n",
       "\n",
       "   Embarked_C  Embarked_Q  Embarked_S  Survived  kfolds  \n",
       "0         0.0         0.0         1.0         0       0  \n",
       "1         0.0         0.0         1.0         0       0  \n",
       "2         0.0         0.0         1.0         0       0  \n",
       "3         0.0         0.0         1.0         1       0  \n",
       "4         0.0         0.0         1.0         0       0  "
      ]
     },
     "execution_count": 15,
     "metadata": {},
     "output_type": "execute_result"
    }
   ],
   "source": [
    "# Scale the columns using MinMaxScaler except for the target and kfolds column\n",
    "\n",
    "from sklearn.preprocessing import MinMaxScaler\n",
    "scaler=MinMaxScaler()\n",
    "df_2=pd.DataFrame(scaler.fit_transform(df),index=df.index,columns=df.columns)\n",
    "df_2['kfolds']=df['kfolds']\n",
    "df_2['Survived']=df['Survived']\n",
    "df=df_2\n",
    "df.head()"
   ]
  },
  {
   "cell_type": "markdown",
   "id": "delayed-there",
   "metadata": {
    "id": "9bbA1QF-8WRu",
    "papermill": {
     "duration": 0.047765,
     "end_time": "2021-05-04T19:12:15.317286",
     "exception": false,
     "start_time": "2021-05-04T19:12:15.269521",
     "status": "completed"
    },
    "tags": []
   },
   "source": [
    "# Feature Selection\n",
    "\n",
    "1.   Greedy Feature Selection\n",
    "2.   Recursive Feature Selection\n",
    "\n"
   ]
  },
  {
   "cell_type": "code",
   "execution_count": 16,
   "id": "foster-seating",
   "metadata": {
    "execution": {
     "iopub.execute_input": "2021-05-04T19:12:15.414472Z",
     "iopub.status.busy": "2021-05-04T19:12:15.413733Z",
     "iopub.status.idle": "2021-05-04T19:12:15.423078Z",
     "shell.execute_reply": "2021-05-04T19:12:15.423653Z"
    },
    "id": "ThIbik7IZtxN",
    "papermill": {
     "duration": 0.059885,
     "end_time": "2021-05-04T19:12:15.423863",
     "exception": false,
     "start_time": "2021-05-04T19:12:15.363978",
     "status": "completed"
    },
    "tags": []
   },
   "outputs": [],
   "source": [
    "def run(fold,df,models,target_name, save_model, print_details=False):\n",
    "  \n",
    "  # print(df.head())\n",
    "  # Training and validation sets\n",
    "  df_train=df[df['kfolds']!=fold].reset_index(drop=True)\n",
    "  df_valid=df[df['kfolds']==fold].reset_index(drop=True)\n",
    "\n",
    "\n",
    "  # x and y of training dataset\n",
    "  x_train=df_train.drop(target_name,axis=1).values\n",
    "  y_train=df_train[target_name].values\n",
    "\n",
    "  # x and y of validation dataset\n",
    "  x_valid=df_valid.drop(target_name,axis=1).values\n",
    "  y_valid=df_valid[target_name].values\n",
    "\n",
    "  # accuracy => will store accuracies of the models  (same for confusion_matrices)\n",
    "  accuracy=[]\n",
    "  confusion_matrices=[]\n",
    "  classification_report=[]\n",
    "\n",
    "  for model_name,model_constructor in list(models.items()):\n",
    "    clf=model_constructor\n",
    "    clf.fit(x_train,y_train)\n",
    "\n",
    "    # preds_train, preds_valid => predictions when training and validation x are fed into the trained model\n",
    "    preds_train=clf.predict(x_train)\n",
    "    preds_valid=clf.predict(x_valid)\n",
    "\n",
    "    acc_train=metrics.accuracy_score(y_train,preds_train)\n",
    "    acc_valid=metrics.accuracy_score(y_valid,preds_valid)\n",
    "\n",
    "    f1_train = metrics.f1_score(y_train,preds_train)\n",
    "    f1_valid = metrics.f1_score(y_valid,preds_valid)\n",
    "\n",
    "    conf_matrix=metrics.confusion_matrix(y_valid,preds_valid)\n",
    "    class_report=metrics.classification_report(y_valid,preds_valid)\n",
    "\n",
    "    accuracy.append(acc_valid)\n",
    "    confusion_matrices.append(conf_matrix)\n",
    "    classification_report.append(class_report)\n",
    "\n",
    "    if(print_details==True):\n",
    "      print(f'Model => {model_name} => Fold = {fold} => Training Accuracy = {acc_train} => Validation Accuracy = {acc_valid}')\n",
    "\n",
    "    if(save_model==True):\n",
    "      joblib.dump(clf, f\"{MODEL_PATH}{model_name}_F1_{f1_valid}_ACC_{acc_valid}_FOLD_{fold}.bin\")\n",
    "\n",
    "  if(print_details==True):\n",
    "    print('\\n--------------------------------------------------------------------------------------------\\n')\n",
    "    \n",
    "  return accuracy,confusion_matrices,classification_report"
   ]
  },
  {
   "cell_type": "code",
   "execution_count": 17,
   "id": "optional-engagement",
   "metadata": {
    "execution": {
     "iopub.execute_input": "2021-05-04T19:12:15.523274Z",
     "iopub.status.busy": "2021-05-04T19:12:15.522670Z",
     "iopub.status.idle": "2021-05-04T19:12:15.531222Z",
     "shell.execute_reply": "2021-05-04T19:12:15.531766Z"
    },
    "id": "7glCR7e60thB",
    "papermill": {
     "duration": 0.060339,
     "end_time": "2021-05-04T19:12:15.531966",
     "exception": false,
     "start_time": "2021-05-04T19:12:15.471627",
     "status": "completed"
    },
    "tags": []
   },
   "outputs": [],
   "source": [
    "def greedy_feature_selection(fold,df,models,target_name):\n",
    "\n",
    "  # target_index => stores the index of the target variable in the dataset\n",
    "  # kfolds_index => stores the index of kfolds column in the dataset\n",
    "\n",
    "  target_index=df.columns.get_loc(target_name)\n",
    "  kfolds_index=df.columns.get_loc('kfolds')\n",
    "\n",
    "  # good_features => stores the indices of all the optimal features\n",
    "  # best_scores => keeps track of the best scores \n",
    "  good_features=[]\n",
    "  best_scores=[]\n",
    "\n",
    "  # df has X and y and a kfolds column. \n",
    "  # no of features (no of columns in X) => total columns in df - 1 (there's 1 y) - 1 (there's 1 kfolds)\n",
    "  num_features=df.shape[1]-2\n",
    "\n",
    "  while True:\n",
    "\n",
    "    # this_feature => the feature added to the already selected features to measure the effect of the former on the model\n",
    "    # best_score => keeps track of the best score achieved while selecting features 1 at a time and checking its effect on the model\n",
    "    this_feature=None\n",
    "    best_score=0\n",
    "\n",
    "\n",
    "    for feature in range(num_features):\n",
    "\n",
    "      # if the feature is already in the good_features list, ignore and move ahead\n",
    "      if feature in good_features:\n",
    "        continue\n",
    "      \n",
    "      # add the currently selected feature to the already discovered good features\n",
    "      selected_features=good_features+[feature]\n",
    "\n",
    "      # all the selected features + target and kfolds column\n",
    "      df_train=df.iloc[:, selected_features + [target_index,kfolds_index]]\n",
    "\n",
    "      # fit the selected dataset to a model \n",
    "      accuracy,confusion_matrices,classification_report=run(fold,df_train,models,save_model= False, target_name=target_name)\n",
    "\n",
    "      # if any improvement is observed over the previous set of features\n",
    "      if(accuracy[0]>best_score):\n",
    "        this_feature=feature\n",
    "        best_score=accuracy[0]\n",
    "      \n",
    "    if(this_feature!=None):\n",
    "      good_features.append(this_feature)\n",
    "      best_scores.append(best_score)\n",
    "    \n",
    "    if(len(best_scores)>2):\n",
    "      if(best_scores[-1]<best_scores[-2]):\n",
    "        break\n",
    "    \n",
    "  return best_scores[:-1] , df.iloc[:, good_features[:-1] + [target_index,kfolds_index]]"
   ]
  },
  {
   "cell_type": "code",
   "execution_count": 18,
   "id": "economic-disease",
   "metadata": {
    "execution": {
     "iopub.execute_input": "2021-05-04T19:12:15.634308Z",
     "iopub.status.busy": "2021-05-04T19:12:15.633565Z",
     "iopub.status.idle": "2021-05-04T19:12:15.652125Z",
     "shell.execute_reply": "2021-05-04T19:12:15.652623Z"
    },
    "id": "Xz3xBqw81kaE",
    "papermill": {
     "duration": 0.073251,
     "end_time": "2021-05-04T19:12:15.652837",
     "exception": false,
     "start_time": "2021-05-04T19:12:15.579586",
     "status": "completed"
    },
    "tags": []
   },
   "outputs": [],
   "source": [
    "from sklearn.feature_selection import RFE\n",
    "\n",
    "def recursive_feature_selection(df,models,n_features_to_select,target_name):\n",
    "  X=df.drop(labels=[target_name,'kfolds'],axis=1).values\n",
    "  y=df[target_name]\n",
    "  kfolds=df.kfolds.values\n",
    "\n",
    "  model_name,model_constructor=list(models.items())[0]\n",
    "\n",
    "  rfe=RFE(\n",
    "      estimator=model_constructor,\n",
    "      n_features_to_select=n_features_to_select\n",
    "  )\n",
    "\n",
    "  try:\n",
    "    rfe.fit(X,y)\n",
    "  except :\n",
    "    print(f\"{model_name} does not support feature importance... Returning original dataframe\\n\")\n",
    "    return df\n",
    "  else:\n",
    "    X_transformed = rfe.transform(X)\n",
    "    df_optimal=pd.DataFrame(data=[X,y,kfolds])\n",
    "    return df_optimal"
   ]
  },
  {
   "cell_type": "markdown",
   "id": "civil-aviation",
   "metadata": {
    "id": "ysWudutD-a1q",
    "papermill": {
     "duration": 0.047265,
     "end_time": "2021-05-04T19:12:15.747653",
     "exception": false,
     "start_time": "2021-05-04T19:12:15.700388",
     "status": "completed"
    },
    "tags": []
   },
   "source": [
    "# Finding the optimal features for the different models\n",
    "\n",
    "Models :\n",
    "\n",
    "1.   XGB Classifier\n",
    "2.   SVM Classifier\n",
    "3.   Random Forest Classifier\n",
    "\n"
   ]
  },
  {
   "cell_type": "markdown",
   "id": "divided-holmes",
   "metadata": {
    "papermill": {
     "duration": 0.047582,
     "end_time": "2021-05-04T19:12:15.843971",
     "exception": false,
     "start_time": "2021-05-04T19:12:15.796389",
     "status": "completed"
    },
    "tags": []
   },
   "source": [
    "### XGB (Both Greedy and Recursive Feature Selection Techniques work!)"
   ]
  },
  {
   "cell_type": "code",
   "execution_count": 19,
   "id": "precious-estimate",
   "metadata": {
    "execution": {
     "iopub.execute_input": "2021-05-04T19:12:15.944442Z",
     "iopub.status.busy": "2021-05-04T19:12:15.943675Z",
     "iopub.status.idle": "2021-05-04T19:12:20.462382Z",
     "shell.execute_reply": "2021-05-04T19:12:20.461681Z"
    },
    "id": "_m3Gi4II14Y3",
    "outputId": "202608d1-262f-4958-9510-e7b56ef882f2",
    "papermill": {
     "duration": 4.57035,
     "end_time": "2021-05-04T19:12:20.462550",
     "exception": false,
     "start_time": "2021-05-04T19:12:15.892200",
     "status": "completed"
    },
    "tags": []
   },
   "outputs": [
    {
     "name": "stdout",
     "output_type": "stream",
     "text": [
      "Greedy Feature Selection : \n",
      "\n",
      "\n",
      "[19:12:16] WARNING: ../src/learner.cc:1095: Starting in XGBoost 1.3.0, the default evaluation metric used with the objective 'binary:logistic' was changed from 'error' to 'logloss'. Explicitly set eval_metric if you'd like to restore the old behavior.\n",
      "[19:12:16] WARNING: ../src/learner.cc:1095: Starting in XGBoost 1.3.0, the default evaluation metric used with the objective 'binary:logistic' was changed from 'error' to 'logloss'. Explicitly set eval_metric if you'd like to restore the old behavior.\n",
      "[19:12:16] WARNING: ../src/learner.cc:1095: Starting in XGBoost 1.3.0, the default evaluation metric used with the objective 'binary:logistic' was changed from 'error' to 'logloss'. Explicitly set eval_metric if you'd like to restore the old behavior.\n",
      "[19:12:16] WARNING: ../src/learner.cc:1095: Starting in XGBoost 1.3.0, the default evaluation metric used with the objective 'binary:logistic' was changed from 'error' to 'logloss'. Explicitly set eval_metric if you'd like to restore the old behavior.\n",
      "[19:12:16] WARNING: ../src/learner.cc:1095: Starting in XGBoost 1.3.0, the default evaluation metric used with the objective 'binary:logistic' was changed from 'error' to 'logloss'. Explicitly set eval_metric if you'd like to restore the old behavior.\n",
      "[19:12:16] WARNING: ../src/learner.cc:1095: Starting in XGBoost 1.3.0, the default evaluation metric used with the objective 'binary:logistic' was changed from 'error' to 'logloss'. Explicitly set eval_metric if you'd like to restore the old behavior.\n",
      "[19:12:16] WARNING: ../src/learner.cc:1095: Starting in XGBoost 1.3.0, the default evaluation metric used with the objective 'binary:logistic' was changed from 'error' to 'logloss'. Explicitly set eval_metric if you'd like to restore the old behavior.\n",
      "[19:12:16] WARNING: ../src/learner.cc:1095: Starting in XGBoost 1.3.0, the default evaluation metric used with the objective 'binary:logistic' was changed from 'error' to 'logloss'. Explicitly set eval_metric if you'd like to restore the old behavior.\n",
      "[19:12:16] WARNING: ../src/learner.cc:1095: Starting in XGBoost 1.3.0, the default evaluation metric used with the objective 'binary:logistic' was changed from 'error' to 'logloss'. Explicitly set eval_metric if you'd like to restore the old behavior.\n",
      "[19:12:16] WARNING: ../src/learner.cc:1095: Starting in XGBoost 1.3.0, the default evaluation metric used with the objective 'binary:logistic' was changed from 'error' to 'logloss'. Explicitly set eval_metric if you'd like to restore the old behavior.\n",
      "[19:12:16] WARNING: ../src/learner.cc:1095: Starting in XGBoost 1.3.0, the default evaluation metric used with the objective 'binary:logistic' was changed from 'error' to 'logloss'. Explicitly set eval_metric if you'd like to restore the old behavior.\n",
      "[19:12:16] WARNING: ../src/learner.cc:1095: Starting in XGBoost 1.3.0, the default evaluation metric used with the objective 'binary:logistic' was changed from 'error' to 'logloss'. Explicitly set eval_metric if you'd like to restore the old behavior.\n",
      "[19:12:16] WARNING: ../src/learner.cc:1095: Starting in XGBoost 1.3.0, the default evaluation metric used with the objective 'binary:logistic' was changed from 'error' to 'logloss'. Explicitly set eval_metric if you'd like to restore the old behavior.\n",
      "[19:12:16] WARNING: ../src/learner.cc:1095: Starting in XGBoost 1.3.0, the default evaluation metric used with the objective 'binary:logistic' was changed from 'error' to 'logloss'. Explicitly set eval_metric if you'd like to restore the old behavior.\n",
      "[19:12:16] WARNING: ../src/learner.cc:1095: Starting in XGBoost 1.3.0, the default evaluation metric used with the objective 'binary:logistic' was changed from 'error' to 'logloss'. Explicitly set eval_metric if you'd like to restore the old behavior.\n",
      "[19:12:16] WARNING: ../src/learner.cc:1095: Starting in XGBoost 1.3.0, the default evaluation metric used with the objective 'binary:logistic' was changed from 'error' to 'logloss'. Explicitly set eval_metric if you'd like to restore the old behavior.\n",
      "[19:12:17] WARNING: ../src/learner.cc:1095: Starting in XGBoost 1.3.0, the default evaluation metric used with the objective 'binary:logistic' was changed from 'error' to 'logloss'. Explicitly set eval_metric if you'd like to restore the old behavior.\n",
      "[19:12:17] WARNING: ../src/learner.cc:1095: Starting in XGBoost 1.3.0, the default evaluation metric used with the objective 'binary:logistic' was changed from 'error' to 'logloss'. Explicitly set eval_metric if you'd like to restore the old behavior.\n",
      "[19:12:17] WARNING: ../src/learner.cc:1095: Starting in XGBoost 1.3.0, the default evaluation metric used with the objective 'binary:logistic' was changed from 'error' to 'logloss'. Explicitly set eval_metric if you'd like to restore the old behavior.\n",
      "[19:12:17] WARNING: ../src/learner.cc:1095: Starting in XGBoost 1.3.0, the default evaluation metric used with the objective 'binary:logistic' was changed from 'error' to 'logloss'. Explicitly set eval_metric if you'd like to restore the old behavior.\n",
      "[19:12:17] WARNING: ../src/learner.cc:1095: Starting in XGBoost 1.3.0, the default evaluation metric used with the objective 'binary:logistic' was changed from 'error' to 'logloss'. Explicitly set eval_metric if you'd like to restore the old behavior.\n",
      "[19:12:17] WARNING: ../src/learner.cc:1095: Starting in XGBoost 1.3.0, the default evaluation metric used with the objective 'binary:logistic' was changed from 'error' to 'logloss'. Explicitly set eval_metric if you'd like to restore the old behavior.\n",
      "[19:12:17] WARNING: ../src/learner.cc:1095: Starting in XGBoost 1.3.0, the default evaluation metric used with the objective 'binary:logistic' was changed from 'error' to 'logloss'. Explicitly set eval_metric if you'd like to restore the old behavior.\n",
      "[19:12:17] WARNING: ../src/learner.cc:1095: Starting in XGBoost 1.3.0, the default evaluation metric used with the objective 'binary:logistic' was changed from 'error' to 'logloss'. Explicitly set eval_metric if you'd like to restore the old behavior.\n",
      "[19:12:17] WARNING: ../src/learner.cc:1095: Starting in XGBoost 1.3.0, the default evaluation metric used with the objective 'binary:logistic' was changed from 'error' to 'logloss'. Explicitly set eval_metric if you'd like to restore the old behavior.\n",
      "[19:12:17] WARNING: ../src/learner.cc:1095: Starting in XGBoost 1.3.0, the default evaluation metric used with the objective 'binary:logistic' was changed from 'error' to 'logloss'. Explicitly set eval_metric if you'd like to restore the old behavior.\n",
      "[19:12:17] WARNING: ../src/learner.cc:1095: Starting in XGBoost 1.3.0, the default evaluation metric used with the objective 'binary:logistic' was changed from 'error' to 'logloss'. Explicitly set eval_metric if you'd like to restore the old behavior.\n",
      "[19:12:17] WARNING: ../src/learner.cc:1095: Starting in XGBoost 1.3.0, the default evaluation metric used with the objective 'binary:logistic' was changed from 'error' to 'logloss'. Explicitly set eval_metric if you'd like to restore the old behavior.\n",
      "[19:12:17] WARNING: ../src/learner.cc:1095: Starting in XGBoost 1.3.0, the default evaluation metric used with the objective 'binary:logistic' was changed from 'error' to 'logloss'. Explicitly set eval_metric if you'd like to restore the old behavior.\n",
      "[19:12:18] WARNING: ../src/learner.cc:1095: Starting in XGBoost 1.3.0, the default evaluation metric used with the objective 'binary:logistic' was changed from 'error' to 'logloss'. Explicitly set eval_metric if you'd like to restore the old behavior.\n",
      "[19:12:18] WARNING: ../src/learner.cc:1095: Starting in XGBoost 1.3.0, the default evaluation metric used with the objective 'binary:logistic' was changed from 'error' to 'logloss'. Explicitly set eval_metric if you'd like to restore the old behavior.\n",
      "[19:12:18] WARNING: ../src/learner.cc:1095: Starting in XGBoost 1.3.0, the default evaluation metric used with the objective 'binary:logistic' was changed from 'error' to 'logloss'. Explicitly set eval_metric if you'd like to restore the old behavior.\n",
      "[19:12:18] WARNING: ../src/learner.cc:1095: Starting in XGBoost 1.3.0, the default evaluation metric used with the objective 'binary:logistic' was changed from 'error' to 'logloss'. Explicitly set eval_metric if you'd like to restore the old behavior.\n",
      "[19:12:18] WARNING: ../src/learner.cc:1095: Starting in XGBoost 1.3.0, the default evaluation metric used with the objective 'binary:logistic' was changed from 'error' to 'logloss'. Explicitly set eval_metric if you'd like to restore the old behavior.\n",
      "[19:12:18] WARNING: ../src/learner.cc:1095: Starting in XGBoost 1.3.0, the default evaluation metric used with the objective 'binary:logistic' was changed from 'error' to 'logloss'. Explicitly set eval_metric if you'd like to restore the old behavior.\n",
      "[19:12:18] WARNING: ../src/learner.cc:1095: Starting in XGBoost 1.3.0, the default evaluation metric used with the objective 'binary:logistic' was changed from 'error' to 'logloss'. Explicitly set eval_metric if you'd like to restore the old behavior.\n",
      "[19:12:18] WARNING: ../src/learner.cc:1095: Starting in XGBoost 1.3.0, the default evaluation metric used with the objective 'binary:logistic' was changed from 'error' to 'logloss'. Explicitly set eval_metric if you'd like to restore the old behavior.\n",
      "[19:12:18] WARNING: ../src/learner.cc:1095: Starting in XGBoost 1.3.0, the default evaluation metric used with the objective 'binary:logistic' was changed from 'error' to 'logloss'. Explicitly set eval_metric if you'd like to restore the old behavior.\n",
      "[19:12:18] WARNING: ../src/learner.cc:1095: Starting in XGBoost 1.3.0, the default evaluation metric used with the objective 'binary:logistic' was changed from 'error' to 'logloss'. Explicitly set eval_metric if you'd like to restore the old behavior.\n",
      "[19:12:18] WARNING: ../src/learner.cc:1095: Starting in XGBoost 1.3.0, the default evaluation metric used with the objective 'binary:logistic' was changed from 'error' to 'logloss'. Explicitly set eval_metric if you'd like to restore the old behavior.\n",
      "[19:12:19] WARNING: ../src/learner.cc:1095: Starting in XGBoost 1.3.0, the default evaluation metric used with the objective 'binary:logistic' was changed from 'error' to 'logloss'. Explicitly set eval_metric if you'd like to restore the old behavior.\n",
      "[19:12:19] WARNING: ../src/learner.cc:1095: Starting in XGBoost 1.3.0, the default evaluation metric used with the objective 'binary:logistic' was changed from 'error' to 'logloss'. Explicitly set eval_metric if you'd like to restore the old behavior.\n",
      "[19:12:19] WARNING: ../src/learner.cc:1095: Starting in XGBoost 1.3.0, the default evaluation metric used with the objective 'binary:logistic' was changed from 'error' to 'logloss'. Explicitly set eval_metric if you'd like to restore the old behavior.\n",
      "[19:12:19] WARNING: ../src/learner.cc:1095: Starting in XGBoost 1.3.0, the default evaluation metric used with the objective 'binary:logistic' was changed from 'error' to 'logloss'. Explicitly set eval_metric if you'd like to restore the old behavior.\n",
      "[19:12:19] WARNING: ../src/learner.cc:1095: Starting in XGBoost 1.3.0, the default evaluation metric used with the objective 'binary:logistic' was changed from 'error' to 'logloss'. Explicitly set eval_metric if you'd like to restore the old behavior.\n",
      "   Sex_female     Parch  Pclass      Fare  Sex_male  Survived  kfolds\n",
      "0         0.0  0.000000     1.0  0.015176       1.0         0       0\n",
      "1         0.0  0.000000     1.0  0.030937       1.0         0       0\n",
      "2         0.0  0.166667     1.0  0.028107       1.0         0       0\n",
      "3         0.0  0.000000     1.0  0.016908       1.0         1       0\n",
      "4         1.0  0.000000     1.0  0.015176       0.0         0       0\n",
      "\n",
      "\n",
      "Recursive Feature Selection : \n",
      "\n",
      "\n",
      "[19:12:19] WARNING: ../src/learner.cc:1095: Starting in XGBoost 1.3.0, the default evaluation metric used with the objective 'binary:logistic' was changed from 'error' to 'logloss'. Explicitly set eval_metric if you'd like to restore the old behavior.\n",
      "[19:12:19] WARNING: ../src/learner.cc:1095: Starting in XGBoost 1.3.0, the default evaluation metric used with the objective 'binary:logistic' was changed from 'error' to 'logloss'. Explicitly set eval_metric if you'd like to restore the old behavior.\n",
      "[19:12:19] WARNING: ../src/learner.cc:1095: Starting in XGBoost 1.3.0, the default evaluation metric used with the objective 'binary:logistic' was changed from 'error' to 'logloss'. Explicitly set eval_metric if you'd like to restore the old behavior.\n",
      "[19:12:20] WARNING: ../src/learner.cc:1095: Starting in XGBoost 1.3.0, the default evaluation metric used with the objective 'binary:logistic' was changed from 'error' to 'logloss'. Explicitly set eval_metric if you'd like to restore the old behavior.\n",
      "[19:12:20] WARNING: ../src/learner.cc:1095: Starting in XGBoost 1.3.0, the default evaluation metric used with the objective 'binary:logistic' was changed from 'error' to 'logloss'. Explicitly set eval_metric if you'd like to restore the old behavior.\n",
      "[19:12:20] WARNING: ../src/learner.cc:1095: Starting in XGBoost 1.3.0, the default evaluation metric used with the objective 'binary:logistic' was changed from 'error' to 'logloss'. Explicitly set eval_metric if you'd like to restore the old behavior.\n",
      "                                                   0\n",
      "0  [[1.0, 0.2586076903744659, 0.0, 0.0, 0.0151757...\n",
      "1  0      0\n",
      "1      0\n",
      "2      0\n",
      "3      1\n",
      "4      0\n",
      " ...\n",
      "2  [0, 0, 0, 0, 0, 0, 0, 0, 0, 0, 0, 0, 0, 0, 0, ...\n"
     ]
    }
   ],
   "source": [
    "print('Greedy Feature Selection : ')\n",
    "print('\\n')\n",
    "models={'XGB': XGBClassifier()}\n",
    "best_scores,df_optimal_XGB=greedy_feature_selection(fold=4,df=df,models=models,target_name='Survived')\n",
    "print(df_optimal_XGB.head())\n",
    "\n",
    "print('\\n')\n",
    "print(\"Recursive Feature Selection : \")\n",
    "print('\\n')\n",
    "df_recursive_optimal_XGB=recursive_feature_selection(df=df,models=models,n_features_to_select=5,target_name='Survived')\n",
    "print(df_recursive_optimal_XGB.head())"
   ]
  },
  {
   "cell_type": "markdown",
   "id": "unlikely-honey",
   "metadata": {
    "papermill": {
     "duration": 0.05115,
     "end_time": "2021-05-04T19:12:20.565372",
     "exception": false,
     "start_time": "2021-05-04T19:12:20.514222",
     "status": "completed"
    },
    "tags": []
   },
   "source": [
    "### SVM (Only Greedy Feature Selection works!)"
   ]
  },
  {
   "cell_type": "code",
   "execution_count": 20,
   "id": "incorrect-receptor",
   "metadata": {
    "execution": {
     "iopub.execute_input": "2021-05-04T19:12:20.680748Z",
     "iopub.status.busy": "2021-05-04T19:12:20.679914Z",
     "iopub.status.idle": "2021-05-04T19:12:23.110305Z",
     "shell.execute_reply": "2021-05-04T19:12:23.109462Z"
    },
    "id": "4EUHRtEn-L4E",
    "outputId": "2b918714-af23-43d9-a43b-4f6246aa6048",
    "papermill": {
     "duration": 2.4935,
     "end_time": "2021-05-04T19:12:23.110565",
     "exception": false,
     "start_time": "2021-05-04T19:12:20.617065",
     "status": "completed"
    },
    "tags": []
   },
   "outputs": [
    {
     "name": "stdout",
     "output_type": "stream",
     "text": [
      "   Sex_female  Pclass  SibSp       Age     Parch  Sex_male  Embarked_S  \\\n",
      "0         0.0     1.0  0.000  0.258608  0.000000       1.0         1.0   \n",
      "1         0.0     1.0  0.125  0.396833  0.000000       1.0         1.0   \n",
      "2         0.0     1.0  0.125  0.421965  0.166667       1.0         1.0   \n",
      "3         0.0     1.0  0.000  0.334004  0.000000       1.0         1.0   \n",
      "4         1.0     1.0  0.000  0.308872  0.000000       0.0         1.0   \n",
      "\n",
      "   Survived  kfolds  \n",
      "0         0       0  \n",
      "1         0       0  \n",
      "2         0       0  \n",
      "3         1       0  \n",
      "4         0       0  \n",
      "\n",
      "\n",
      "SVM does not support feature importance... Returning original dataframe\n",
      "\n",
      "   Pclass       Age  SibSp     Parch      Fare  Sex_female  Sex_male  \\\n",
      "0     1.0  0.258608  0.000  0.000000  0.015176         0.0       1.0   \n",
      "1     1.0  0.396833  0.125  0.000000  0.030937         0.0       1.0   \n",
      "2     1.0  0.421965  0.125  0.166667  0.028107         0.0       1.0   \n",
      "3     1.0  0.334004  0.000  0.000000  0.016908         0.0       1.0   \n",
      "4     1.0  0.308872  0.000  0.000000  0.015176         1.0       0.0   \n",
      "\n",
      "   Embarked_C  Embarked_Q  Embarked_S  Survived  kfolds  \n",
      "0         0.0         0.0         1.0         0       0  \n",
      "1         0.0         0.0         1.0         0       0  \n",
      "2         0.0         0.0         1.0         0       0  \n",
      "3         0.0         0.0         1.0         1       0  \n",
      "4         0.0         0.0         1.0         0       0  \n"
     ]
    }
   ],
   "source": [
    "models={'SVM' : SVC()}\n",
    "best_scores,df_optimal_SVM=greedy_feature_selection(fold=4,df=df,models=models,target_name='Survived')\n",
    "print(df_optimal_SVM.head())\n",
    "\n",
    "print('\\n')\n",
    "df_recursive_optimal_SVM=recursive_feature_selection(df=df,models=models,n_features_to_select=5,target_name='Survived')\n",
    "print(df_recursive_optimal_SVM.head())"
   ]
  },
  {
   "cell_type": "markdown",
   "id": "hawaiian-syndication",
   "metadata": {
    "papermill": {
     "duration": 0.053643,
     "end_time": "2021-05-04T19:12:23.217371",
     "exception": false,
     "start_time": "2021-05-04T19:12:23.163728",
     "status": "completed"
    },
    "tags": []
   },
   "source": [
    "### Random Forest (Both Greedy and Recursive Feature Selection work!)"
   ]
  },
  {
   "cell_type": "code",
   "execution_count": 21,
   "id": "female-cylinder",
   "metadata": {
    "execution": {
     "iopub.execute_input": "2021-05-04T19:12:23.329834Z",
     "iopub.status.busy": "2021-05-04T19:12:23.329140Z",
     "iopub.status.idle": "2021-05-04T19:12:35.291459Z",
     "shell.execute_reply": "2021-05-04T19:12:35.292530Z"
    },
    "id": "FbTpXaf__pzm",
    "outputId": "c0c06ee7-a824-4f39-888a-76e740c42183",
    "papermill": {
     "duration": 12.023074,
     "end_time": "2021-05-04T19:12:35.292842",
     "exception": false,
     "start_time": "2021-05-04T19:12:23.269768",
     "status": "completed"
    },
    "tags": []
   },
   "outputs": [
    {
     "name": "stdout",
     "output_type": "stream",
     "text": [
      "   Sex_female  SibSp  Pclass      Fare       Age  Embarked_S  Sex_male  \\\n",
      "0         0.0  0.000     1.0  0.015176  0.258608         1.0       1.0   \n",
      "1         0.0  0.125     1.0  0.030937  0.396833         1.0       1.0   \n",
      "2         0.0  0.125     1.0  0.028107  0.421965         1.0       1.0   \n",
      "3         0.0  0.000     1.0  0.016908  0.334004         1.0       1.0   \n",
      "4         1.0  0.000     1.0  0.015176  0.308872         1.0       0.0   \n",
      "\n",
      "   Embarked_C  Survived  kfolds  \n",
      "0         0.0         0       0  \n",
      "1         0.0         0       0  \n",
      "2         0.0         0       0  \n",
      "3         0.0         1       0  \n",
      "4         0.0         0       0  \n",
      "\n",
      "\n",
      "                                                   0\n",
      "0  [[1.0, 0.2586076903744659, 0.0, 0.0, 0.0151757...\n",
      "1  0      0\n",
      "1      0\n",
      "2      0\n",
      "3      1\n",
      "4      0\n",
      " ...\n",
      "2  [0, 0, 0, 0, 0, 0, 0, 0, 0, 0, 0, 0, 0, 0, 0, ...\n"
     ]
    }
   ],
   "source": [
    "models={'RFC' : RandomForestClassifier()}\n",
    "best_scores,df_optimal_RFC=greedy_feature_selection(fold=4,df=df,models=models,target_name='Survived')\n",
    "print(df_optimal_RFC.head())\n",
    "\n",
    "print('\\n')\n",
    "df_recursive_optimal_RFC=recursive_feature_selection(df=df,models=models,n_features_to_select=5,target_name='Survived')\n",
    "print(df_recursive_optimal_RFC.head())"
   ]
  },
  {
   "cell_type": "markdown",
   "id": "narrow-alert",
   "metadata": {
    "id": "28VtkcScA8vx",
    "papermill": {
     "duration": 0.052852,
     "end_time": "2021-05-04T19:12:35.399932",
     "exception": false,
     "start_time": "2021-05-04T19:12:35.347080",
     "status": "completed"
    },
    "tags": []
   },
   "source": [
    "# **Warning : These cells take hours to run! So Uncomment the lines if you want to run it. The output for the commented codes are given below**\n",
    "\n",
    "---\n",
    "\n",
    "\n",
    "# Hyperparameter tuning\n",
    "\n",
    "Models : \n",
    "\n",
    "1.   XGB Classifier\n",
    "2.   SVM Classifier\n",
    "3.   Random Forest Classifier\n",
    "\n",
    "\n"
   ]
  },
  {
   "cell_type": "code",
   "execution_count": 22,
   "id": "ecological-mystery",
   "metadata": {
    "execution": {
     "iopub.execute_input": "2021-05-04T19:12:35.514336Z",
     "iopub.status.busy": "2021-05-04T19:12:35.513604Z",
     "iopub.status.idle": "2021-05-04T19:12:35.517514Z",
     "shell.execute_reply": "2021-05-04T19:12:35.516868Z"
    },
    "id": "6uup2xi68GqG",
    "papermill": {
     "duration": 0.065165,
     "end_time": "2021-05-04T19:12:35.517768",
     "exception": false,
     "start_time": "2021-05-04T19:12:35.452603",
     "status": "completed"
    },
    "tags": []
   },
   "outputs": [],
   "source": [
    "from sklearn import model_selection\n",
    "from sklearn import metrics\n",
    "\n",
    "def hyperparameter_tune_and_run(df,num_folds,models,target_name,param_grid,evaluation_metric,print_details=False):\n",
    "  X=df.drop(labels=[target_name,'kfolds'],axis=1).values\n",
    "  y=df[target_name]\n",
    "\n",
    "  model_name,model_constructor=list(models.items())[0]\n",
    "\n",
    "  model = model_selection.GridSearchCV(\n",
    "      estimator = model_constructor,\n",
    "      param_grid = param_grid,\n",
    "      scoring = evaluation_metric,\n",
    "      verbose = 10,\n",
    "      cv = num_folds,\n",
    "      n_jobs=-1\n",
    "  )\n",
    "\n",
    "  model.fit(X,y)\n",
    "\n",
    "  if(print_details==True):\n",
    "    print(f\"Best score : {model.best_score_}\")\n",
    "\n",
    "    print(\"Best parameters : \")\n",
    "    best_parameters=model.best_estimator_.get_params()\n",
    "    for param_name in sorted(param_grid.keys()):\n",
    "      print(f\"\\t{param_name}: {best_parameters[param_name]}\")\n",
    "  \n",
    "  return model"
   ]
  },
  {
   "cell_type": "markdown",
   "id": "suburban-collapse",
   "metadata": {
    "papermill": {
     "duration": 0.052016,
     "end_time": "2021-05-04T19:12:35.622523",
     "exception": false,
     "start_time": "2021-05-04T19:12:35.570507",
     "status": "completed"
    },
    "tags": []
   },
   "source": [
    "### Hyperparameter Tune for XGB : \n"
   ]
  },
  {
   "cell_type": "code",
   "execution_count": 23,
   "id": "sticky-officer",
   "metadata": {
    "execution": {
     "iopub.execute_input": "2021-05-04T19:12:35.732920Z",
     "iopub.status.busy": "2021-05-04T19:12:35.732068Z",
     "iopub.status.idle": "2021-05-04T19:12:35.735614Z",
     "shell.execute_reply": "2021-05-04T19:12:35.735004Z"
    },
    "id": "PT26G5UxN7K6",
    "outputId": "fbfdec38-ff85-40ab-915e-ba33dae3159f",
    "papermill": {
     "duration": 0.060872,
     "end_time": "2021-05-04T19:12:35.735765",
     "exception": false,
     "start_time": "2021-05-04T19:12:35.674893",
     "status": "completed"
    },
    "tags": []
   },
   "outputs": [],
   "source": [
    "# models={'XGB Classifier': XGBClassifier()}\n",
    "# param_grid = {\n",
    "#     \"learning_rate\":[0.01,0.015,0.025,0.05,0.1],\n",
    "#     \"gamma\":[0.05,0.1,0.3,0.5,0.7,0.9,1.0],\n",
    "#     \"max_depth\":[3,5,7,9,12,15,17,25],\n",
    "#     \"min_child_weight\":[1,3,5,7],\n",
    "#     \"subsample\":[0.6,0.7,0.8,0.9,1.0],\n",
    "#     \"colsample_bytree\":[0.6,0.7,0.8,0.9,1.0],\n",
    "#     # \"reg_lambda\":[0.01,0.03,0.05,0.07,0.09,0.1,1.0],\n",
    "#     # \"reg_alpha\":[0.01,0.03,0.05,0.07,0.09,0.1,1.0]\n",
    "# }\n",
    "# model = hyperparameter_tune_and_run(df=df_optimal_XGB,num_folds=5,models=models,target_name='Survived',param_grid=param_grid,evaluation_metric=\"accuracy\",print_details=True)"
   ]
  },
  {
   "attachments": {
    "80cd3c37-0cae-43ed-98cc-74df96b51579.png": {
     "image/png": "[encoded data removed]"
    }
   },
   "cell_type": "markdown",
   "id": "burning-giving",
   "metadata": {
    "papermill": {
     "duration": 0.055723,
     "end_time": "2021-05-04T19:12:35.846330",
     "exception": false,
     "start_time": "2021-05-04T19:12:35.790607",
     "status": "completed"
    },
    "tags": []
   },
   "source": [
    "![image.png](attachment:80cd3c37-0cae-43ed-98cc-74df96b51579.png)\n",
    "\n",
    "Best score : 0.8271483271608812<br>\n",
    "Best parameters : <br>\n",
    "\tcolsample_bytree: 0.8 <br>\n",
    "\tgamma: 0.3 <br>\n",
    "\tlearning_rate: 0.1 <br>\n",
    "\tmax_depth: 5 <br>\n",
    "\tmin_child_weight: 5 <br>\n",
    "\tsubsample: 1.0 <br>"
   ]
  },
  {
   "cell_type": "code",
   "execution_count": null,
   "id": "measured-milan",
   "metadata": {
    "id": "gMyL_8NR7WhK",
    "papermill": {
     "duration": 0.05225,
     "end_time": "2021-05-04T19:12:35.951767",
     "exception": false,
     "start_time": "2021-05-04T19:12:35.899517",
     "status": "completed"
    },
    "tags": []
   },
   "outputs": [],
   "source": []
  },
  {
   "cell_type": "code",
   "execution_count": 24,
   "id": "contemporary-thriller",
   "metadata": {
    "execution": {
     "iopub.execute_input": "2021-05-04T19:12:36.064995Z",
     "iopub.status.busy": "2021-05-04T19:12:36.064337Z",
     "iopub.status.idle": "2021-05-04T19:12:36.068183Z",
     "shell.execute_reply": "2021-05-04T19:12:36.067513Z"
    },
    "id": "wMZ-VMSe9sMe",
    "outputId": "2673b375-b309-46bb-c568-9d0917588ee2",
    "papermill": {
     "duration": 0.063486,
     "end_time": "2021-05-04T19:12:36.068355",
     "exception": false,
     "start_time": "2021-05-04T19:12:36.004869",
     "status": "completed"
    },
    "tags": []
   },
   "outputs": [],
   "source": [
    "# models={'SVM Classifier': SVC()}\n",
    "# param_grid = {\n",
    "#     \"C\":[0.001,0.01,0.1,1,10,100,1000],\n",
    "#     \"gamma\":['auto'],\n",
    "#     \"class_weight\":['balanced']\n",
    "# }\n",
    "# SVM_model = hyperparameter_tune_and_run(df=df_optimal_SVM,num_folds=5,models=models,target_name='Survived',param_grid=param_grid,evaluation_metric=\"accuracy\",print_details=True)"
   ]
  },
  {
   "attachments": {
    "bd270df1-640f-4f6f-a2a4-1fc394db20d0.png": {
     "image/png": "[encoded data removed]"
    }
   },
   "cell_type": "markdown",
   "id": "placed-carbon",
   "metadata": {
    "papermill": {
     "duration": 0.0546,
     "end_time": "2021-05-04T19:12:36.175930",
     "exception": false,
     "start_time": "2021-05-04T19:12:36.121330",
     "status": "completed"
    },
    "tags": []
   },
   "source": [
    "![image.png](attachment:bd270df1-640f-4f6f-a2a4-1fc394db20d0.png)\n",
    "\n",
    "Best score : 0.7957064842131694 <br>\n",
    "Best parameters : <br>\n",
    "\tC: 1000 <br>\n",
    "\tclass_weight: balanced <br>\n",
    "\tgamma: auto <br>"
   ]
  },
  {
   "cell_type": "markdown",
   "id": "white-julian",
   "metadata": {
    "papermill": {
     "duration": 0.063445,
     "end_time": "2021-05-04T19:12:36.294742",
     "exception": false,
     "start_time": "2021-05-04T19:12:36.231297",
     "status": "completed"
    },
    "tags": []
   },
   "source": []
  },
  {
   "cell_type": "code",
   "execution_count": null,
   "id": "authorized-nightlife",
   "metadata": {
    "id": "D0sV2G1Y9fZ3",
    "papermill": {
     "duration": 0.05475,
     "end_time": "2021-05-04T19:12:36.415501",
     "exception": false,
     "start_time": "2021-05-04T19:12:36.360751",
     "status": "completed"
    },
    "tags": []
   },
   "outputs": [],
   "source": []
  },
  {
   "cell_type": "code",
   "execution_count": 25,
   "id": "characteristic-celtic",
   "metadata": {
    "execution": {
     "iopub.execute_input": "2021-05-04T19:12:36.548415Z",
     "iopub.status.busy": "2021-05-04T19:12:36.547594Z",
     "iopub.status.idle": "2021-05-04T19:12:36.551141Z",
     "shell.execute_reply": "2021-05-04T19:12:36.550412Z"
    },
    "id": "tJ0zYD9X9fti",
    "outputId": "cca2bae4-fe9e-45db-cd96-3eaad6e7819a",
    "papermill": {
     "duration": 0.072146,
     "end_time": "2021-05-04T19:12:36.551368",
     "exception": false,
     "start_time": "2021-05-04T19:12:36.479222",
     "status": "completed"
    },
    "tags": []
   },
   "outputs": [],
   "source": [
    "# models={'Random Forest': RandomForestClassifier()}\n",
    "# param_grid = {\n",
    "#     \"n_estimators\":[120,300,500,800,1200],\n",
    "#     \"max_depth\":[5,8,15,25,30,None],\n",
    "#     \"min_samples_split\":[1,2,5,10,15,100],\n",
    "#     \"min_samples_leaf\":[1,2,5,10],\n",
    "#     \"max_features\":[\"log2\",\"sqrt\",None]\n",
    "# }\n",
    "# Random_Forest_model = hyperparameter_tune_and_run(df=df_optimal_RFC,num_folds=5,models=models,target_name='Survived',param_grid=param_grid,evaluation_metric=\"accuracy\",print_details=True)"
   ]
  },
  {
   "attachments": {
    "5da2389a-a3b5-4702-b251-03234eb864d1.png": {
     "image/png": "[encoded data removed]"
    }
   },
   "cell_type": "markdown",
   "id": "rental-philadelphia",
   "metadata": {
    "papermill": {
     "duration": 0.053977,
     "end_time": "2021-05-04T19:12:36.665413",
     "exception": false,
     "start_time": "2021-05-04T19:12:36.611436",
     "status": "completed"
    },
    "tags": []
   },
   "source": [
    "![image.png](attachment:5da2389a-a3b5-4702-b251-03234eb864d1.png)\n",
    "\n",
    "Best score : 0.8260435628648548 <br>\n",
    "Best parameters : <br>\n",
    "\tmax_depth: 30 <br>\n",
    "\tmax_features: None <br>\n",
    "\tmin_samples_leaf: 1 <br>\n",
    "\tmin_samples_split: 15 <br>\n",
    "\tn_estimators: 300 <br>"
   ]
  },
  {
   "cell_type": "code",
   "execution_count": null,
   "id": "comparable-teens",
   "metadata": {
    "id": "IA5nb0kg9ajP",
    "papermill": {
     "duration": 0.053273,
     "end_time": "2021-05-04T19:12:36.772605",
     "exception": false,
     "start_time": "2021-05-04T19:12:36.719332",
     "status": "completed"
    },
    "tags": []
   },
   "outputs": [],
   "source": []
  },
  {
   "cell_type": "markdown",
   "id": "advance-bunny",
   "metadata": {
    "id": "Y6Pey8G7Mw3u",
    "papermill": {
     "duration": 0.056583,
     "end_time": "2021-05-04T19:12:36.883674",
     "exception": false,
     "start_time": "2021-05-04T19:12:36.827091",
     "status": "completed"
    },
    "tags": []
   },
   "source": [
    "# Run the models"
   ]
  },
  {
   "cell_type": "markdown",
   "id": "graduate-cover",
   "metadata": {
    "papermill": {
     "duration": 0.057047,
     "end_time": "2021-05-04T19:12:36.996141",
     "exception": false,
     "start_time": "2021-05-04T19:12:36.939094",
     "status": "completed"
    },
    "tags": []
   },
   "source": [
    "### Initialise XGB, SVC, Random Forest with their best hyperparameters"
   ]
  },
  {
   "cell_type": "code",
   "execution_count": 26,
   "id": "macro-alliance",
   "metadata": {
    "execution": {
     "iopub.execute_input": "2021-05-04T19:12:37.122257Z",
     "iopub.status.busy": "2021-05-04T19:12:37.121558Z",
     "iopub.status.idle": "2021-05-04T19:12:37.125925Z",
     "shell.execute_reply": "2021-05-04T19:12:37.125257Z"
    },
    "papermill": {
     "duration": 0.067106,
     "end_time": "2021-05-04T19:12:37.126086",
     "exception": false,
     "start_time": "2021-05-04T19:12:37.058980",
     "status": "completed"
    },
    "tags": []
   },
   "outputs": [],
   "source": [
    "XGB_model=XGBClassifier(max_depth=4,learning_rate=0.1,colsample_bytree=0.8,gamma=0.3,min_child_weight=5,subsample=1.0)\n",
    "SVM_model=SVC(C=1000,class_weight='balanced',gamma='auto')\n",
    "RFC_model=RandomForestClassifier(max_depth=30,max_features=None,min_samples_leaf=1,min_samples_split=15,n_estimators=300)\n",
    "\n",
    "models={\n",
    "    'XGB Classifier' : XGB_model,\n",
    "    'SVM Classifier' : SVM_model,\n",
    "    'Random Forest Classifier' : RFC_model\n",
    "    }\n"
   ]
  },
  {
   "cell_type": "markdown",
   "id": "mysterious-cleaner",
   "metadata": {
    "papermill": {
     "duration": 0.059234,
     "end_time": "2021-05-04T19:12:37.241135",
     "exception": false,
     "start_time": "2021-05-04T19:12:37.181901",
     "status": "completed"
    },
    "tags": []
   },
   "source": [
    "### 1. Fitting the models on the dataset with features optimal to XGB ie. the dataframe we obtained after feature selection on XGB"
   ]
  },
  {
   "cell_type": "code",
   "execution_count": 27,
   "id": "driving-florida",
   "metadata": {
    "execution": {
     "iopub.execute_input": "2021-05-04T19:12:37.359797Z",
     "iopub.status.busy": "2021-05-04T19:12:37.358735Z",
     "iopub.status.idle": "2021-05-04T19:12:42.019598Z",
     "shell.execute_reply": "2021-05-04T19:12:42.018726Z"
    },
    "id": "s58GE161QH9u",
    "outputId": "b8aa27f5-0832-4b79-a5ca-d5e167d64de8",
    "papermill": {
     "duration": 4.723874,
     "end_time": "2021-05-04T19:12:42.020084",
     "exception": false,
     "start_time": "2021-05-04T19:12:37.296210",
     "status": "completed"
    },
    "tags": []
   },
   "outputs": [
    {
     "name": "stdout",
     "output_type": "stream",
     "text": [
      "[19:12:37] WARNING: ../src/learner.cc:1095: Starting in XGBoost 1.3.0, the default evaluation metric used with the objective 'binary:logistic' was changed from 'error' to 'logloss'. Explicitly set eval_metric if you'd like to restore the old behavior.\n",
      "Model => XGB Classifier => Fold = 0 => Training Accuracy = 0.851123595505618 => Validation Accuracy = 0.776536312849162\n",
      "Model => SVM Classifier => Fold = 0 => Training Accuracy = 0.8146067415730337 => Validation Accuracy = 0.7374301675977654\n",
      "Model => Random Forest Classifier => Fold = 0 => Training Accuracy = 0.8820224719101124 => Validation Accuracy = 0.7988826815642458\n",
      "\n",
      "--------------------------------------------------------------------------------------------\n",
      "\n",
      "[19:12:38] WARNING: ../src/learner.cc:1095: Starting in XGBoost 1.3.0, the default evaluation metric used with the objective 'binary:logistic' was changed from 'error' to 'logloss'. Explicitly set eval_metric if you'd like to restore the old behavior.\n",
      "Model => XGB Classifier => Fold = 1 => Training Accuracy = 0.8555399719495091 => Validation Accuracy = 0.7921348314606742\n",
      "Model => SVM Classifier => Fold = 1 => Training Accuracy = 0.8036465638148668 => Validation Accuracy = 0.7528089887640449\n",
      "Model => Random Forest Classifier => Fold = 1 => Training Accuracy = 0.8835904628330996 => Validation Accuracy = 0.7921348314606742\n",
      "\n",
      "--------------------------------------------------------------------------------------------\n",
      "\n",
      "[19:12:39] WARNING: ../src/learner.cc:1095: Starting in XGBoost 1.3.0, the default evaluation metric used with the objective 'binary:logistic' was changed from 'error' to 'logloss'. Explicitly set eval_metric if you'd like to restore the old behavior.\n",
      "Model => XGB Classifier => Fold = 2 => Training Accuracy = 0.8415147265077139 => Validation Accuracy = 0.848314606741573\n",
      "Model => SVM Classifier => Fold = 2 => Training Accuracy = 0.7840112201963534 => Validation Accuracy = 0.8258426966292135\n",
      "Model => Random Forest Classifier => Fold = 2 => Training Accuracy = 0.8681626928471248 => Validation Accuracy = 0.8539325842696629\n",
      "\n",
      "--------------------------------------------------------------------------------------------\n",
      "\n",
      "[19:12:40] WARNING: ../src/learner.cc:1095: Starting in XGBoost 1.3.0, the default evaluation metric used with the objective 'binary:logistic' was changed from 'error' to 'logloss'. Explicitly set eval_metric if you'd like to restore the old behavior.\n",
      "Model => XGB Classifier => Fold = 3 => Training Accuracy = 0.8499298737727911 => Validation Accuracy = 0.7921348314606742\n",
      "Model => SVM Classifier => Fold = 3 => Training Accuracy = 0.7994389901823282 => Validation Accuracy = 0.797752808988764\n",
      "Model => Random Forest Classifier => Fold = 3 => Training Accuracy = 0.876577840112202 => Validation Accuracy = 0.8089887640449438\n",
      "\n",
      "--------------------------------------------------------------------------------------------\n",
      "\n",
      "[19:12:41] WARNING: ../src/learner.cc:1095: Starting in XGBoost 1.3.0, the default evaluation metric used with the objective 'binary:logistic' was changed from 'error' to 'logloss'. Explicitly set eval_metric if you'd like to restore the old behavior.\n",
      "Model => XGB Classifier => Fold = 4 => Training Accuracy = 0.8499298737727911 => Validation Accuracy = 0.848314606741573\n",
      "Model => SVM Classifier => Fold = 4 => Training Accuracy = 0.8008415147265077 => Validation Accuracy = 0.47191011235955055\n",
      "Model => Random Forest Classifier => Fold = 4 => Training Accuracy = 0.8723702664796634 => Validation Accuracy = 0.8595505617977528\n",
      "\n",
      "--------------------------------------------------------------------------------------------\n",
      "\n"
     ]
    }
   ],
   "source": [
    "accuracies,confusion_matrices,classification_reports=[],[],[]\n",
    "for f in range(5):\n",
    "  accuracy,confusion_matrix,classification_report=run(f,df_optimal_XGB,models=models,target_name='Survived', save_model= True, print_details=True)\n",
    "  accuracies.append(accuracy)\n",
    "  confusion_matrices.append(confusion_matrix)\n",
    "  classification_reports.append(classification_report)"
   ]
  },
  {
   "cell_type": "markdown",
   "id": "greek-chair",
   "metadata": {
    "papermill": {
     "duration": 0.055623,
     "end_time": "2021-05-04T19:12:42.131676",
     "exception": false,
     "start_time": "2021-05-04T19:12:42.076053",
     "status": "completed"
    },
    "tags": []
   },
   "source": [
    "### 2. Fitting the models on the dataset with features optimal to SVM ie. the dataframe we obtained after feature selection on SVM"
   ]
  },
  {
   "cell_type": "code",
   "execution_count": 28,
   "id": "mature-background",
   "metadata": {
    "execution": {
     "iopub.execute_input": "2021-05-04T19:12:42.301540Z",
     "iopub.status.busy": "2021-05-04T19:12:42.278831Z",
     "iopub.status.idle": "2021-05-04T19:12:47.006795Z",
     "shell.execute_reply": "2021-05-04T19:12:47.005966Z"
    },
    "id": "n_53_Jwj8-TQ",
    "papermill": {
     "duration": 4.819472,
     "end_time": "2021-05-04T19:12:47.006969",
     "exception": false,
     "start_time": "2021-05-04T19:12:42.187497",
     "status": "completed"
    },
    "tags": []
   },
   "outputs": [
    {
     "name": "stdout",
     "output_type": "stream",
     "text": [
      "[19:12:42] WARNING: ../src/learner.cc:1095: Starting in XGBoost 1.3.0, the default evaluation metric used with the objective 'binary:logistic' was changed from 'error' to 'logloss'. Explicitly set eval_metric if you'd like to restore the old behavior.\n",
      "Model => XGB Classifier => Fold = 0 => Training Accuracy = 0.8721910112359551 => Validation Accuracy = 0.8156424581005587\n",
      "Model => SVM Classifier => Fold = 0 => Training Accuracy = 0.8455056179775281 => Validation Accuracy = 0.7094972067039106\n",
      "Model => Random Forest Classifier => Fold = 0 => Training Accuracy = 0.8778089887640449 => Validation Accuracy = 0.8268156424581006\n",
      "\n",
      "--------------------------------------------------------------------------------------------\n",
      "\n",
      "[19:12:43] WARNING: ../src/learner.cc:1095: Starting in XGBoost 1.3.0, the default evaluation metric used with the objective 'binary:logistic' was changed from 'error' to 'logloss'. Explicitly set eval_metric if you'd like to restore the old behavior.\n",
      "Model => XGB Classifier => Fold = 1 => Training Accuracy = 0.8639551192145862 => Validation Accuracy = 0.8146067415730337\n",
      "Model => SVM Classifier => Fold = 1 => Training Accuracy = 0.8513323983169705 => Validation Accuracy = 0.797752808988764\n",
      "Model => Random Forest Classifier => Fold = 1 => Training Accuracy = 0.876577840112202 => Validation Accuracy = 0.7865168539325843\n",
      "\n",
      "--------------------------------------------------------------------------------------------\n",
      "\n",
      "[19:12:44] WARNING: ../src/learner.cc:1095: Starting in XGBoost 1.3.0, the default evaluation metric used with the objective 'binary:logistic' was changed from 'error' to 'logloss'. Explicitly set eval_metric if you'd like to restore the old behavior.\n",
      "Model => XGB Classifier => Fold = 2 => Training Accuracy = 0.8541374474053296 => Validation Accuracy = 0.8764044943820225\n",
      "Model => SVM Classifier => Fold = 2 => Training Accuracy = 0.8345021037868162 => Validation Accuracy = 0.8426966292134831\n",
      "Model => Random Forest Classifier => Fold = 2 => Training Accuracy = 0.8737727910238429 => Validation Accuracy = 0.8426966292134831\n",
      "\n",
      "--------------------------------------------------------------------------------------------\n",
      "\n",
      "[19:12:45] WARNING: ../src/learner.cc:1095: Starting in XGBoost 1.3.0, the default evaluation metric used with the objective 'binary:logistic' was changed from 'error' to 'logloss'. Explicitly set eval_metric if you'd like to restore the old behavior.\n",
      "Model => XGB Classifier => Fold = 3 => Training Accuracy = 0.8639551192145862 => Validation Accuracy = 0.8202247191011236\n",
      "Model => SVM Classifier => Fold = 3 => Training Accuracy = 0.8485273492286115 => Validation Accuracy = 0.8258426966292135\n",
      "Model => Random Forest Classifier => Fold = 3 => Training Accuracy = 0.8863955119214586 => Validation Accuracy = 0.8089887640449438\n",
      "\n",
      "--------------------------------------------------------------------------------------------\n",
      "\n",
      "[19:12:46] WARNING: ../src/learner.cc:1095: Starting in XGBoost 1.3.0, the default evaluation metric used with the objective 'binary:logistic' was changed from 'error' to 'logloss'. Explicitly set eval_metric if you'd like to restore the old behavior.\n",
      "Model => XGB Classifier => Fold = 4 => Training Accuracy = 0.8513323983169705 => Validation Accuracy = 0.8539325842696629\n",
      "Model => SVM Classifier => Fold = 4 => Training Accuracy = 0.8345021037868162 => Validation Accuracy = 0.7528089887640449\n",
      "Model => Random Forest Classifier => Fold = 4 => Training Accuracy = 0.8751753155680224 => Validation Accuracy = 0.8426966292134831\n",
      "\n",
      "--------------------------------------------------------------------------------------------\n",
      "\n"
     ]
    }
   ],
   "source": [
    "XGB_model=XGBClassifier(max_depth=4,learning_rate=0.1,colsample_bytree=0.8,gamma=0.3,min_child_weight=5,subsample=1.0)\n",
    "SVM_model=SVC(C=1000,class_weight='balanced',gamma='auto')\n",
    "RFC_model=RandomForestClassifier(max_depth=30,max_features=None,min_samples_leaf=1,min_samples_split=15,n_estimators=300)\n",
    "\n",
    "models={\n",
    "    'XGB Classifier' : XGB_model,\n",
    "    'SVM Classifier' : SVM_model,\n",
    "    'Random Forest Classifier' : RFC_model\n",
    "    }\n",
    "\n",
    "accuracies,confusion_matrices,classification_reports=[],[],[]\n",
    "for f in range(5):\n",
    "  accuracy,confusion_matrix,classification_report=run(f,df_optimal_SVM,models=models,target_name='Survived', save_model= True, print_details=True)\n",
    "  accuracies.append(accuracy)\n",
    "  confusion_matrices.append(confusion_matrix)\n",
    "  classification_reports.append(classification_report)"
   ]
  },
  {
   "cell_type": "markdown",
   "id": "broadband-routine",
   "metadata": {
    "papermill": {
     "duration": 0.057831,
     "end_time": "2021-05-04T19:12:47.123119",
     "exception": false,
     "start_time": "2021-05-04T19:12:47.065288",
     "status": "completed"
    },
    "tags": []
   },
   "source": [
    "### 3. Fitting the models on the dataset with features optimal to Random Forest Classifier (RFC) ie. the dataframe we obtained after feature selection on RFC"
   ]
  },
  {
   "cell_type": "code",
   "execution_count": 29,
   "id": "pressed-method",
   "metadata": {
    "execution": {
     "iopub.execute_input": "2021-05-04T19:12:47.259374Z",
     "iopub.status.busy": "2021-05-04T19:12:47.257682Z",
     "iopub.status.idle": "2021-05-04T19:12:52.283019Z",
     "shell.execute_reply": "2021-05-04T19:12:52.282191Z"
    },
    "papermill": {
     "duration": 5.100367,
     "end_time": "2021-05-04T19:12:52.283265",
     "exception": false,
     "start_time": "2021-05-04T19:12:47.182898",
     "status": "completed"
    },
    "tags": []
   },
   "outputs": [
    {
     "name": "stdout",
     "output_type": "stream",
     "text": [
      "[19:12:47] WARNING: ../src/learner.cc:1095: Starting in XGBoost 1.3.0, the default evaluation metric used with the objective 'binary:logistic' was changed from 'error' to 'logloss'. Explicitly set eval_metric if you'd like to restore the old behavior.\n",
      "Model => XGB Classifier => Fold = 0 => Training Accuracy = 0.8918539325842697 => Validation Accuracy = 0.8044692737430168\n",
      "Model => SVM Classifier => Fold = 0 => Training Accuracy = 0.851123595505618 => Validation Accuracy = 0.6201117318435754\n",
      "Model => Random Forest Classifier => Fold = 0 => Training Accuracy = 0.9002808988764045 => Validation Accuracy = 0.8324022346368715\n",
      "\n",
      "--------------------------------------------------------------------------------------------\n",
      "\n",
      "[19:12:48] WARNING: ../src/learner.cc:1095: Starting in XGBoost 1.3.0, the default evaluation metric used with the objective 'binary:logistic' was changed from 'error' to 'logloss'. Explicitly set eval_metric if you'd like to restore the old behavior.\n",
      "Model => XGB Classifier => Fold = 1 => Training Accuracy = 0.8863955119214586 => Validation Accuracy = 0.8033707865168539\n",
      "Model => SVM Classifier => Fold = 1 => Training Accuracy = 0.8583450210378681 => Validation Accuracy = 0.7865168539325843\n",
      "Model => Random Forest Classifier => Fold = 1 => Training Accuracy = 0.8990182328190743 => Validation Accuracy = 0.7640449438202247\n",
      "\n",
      "--------------------------------------------------------------------------------------------\n",
      "\n",
      "[19:12:49] WARNING: ../src/learner.cc:1095: Starting in XGBoost 1.3.0, the default evaluation metric used with the objective 'binary:logistic' was changed from 'error' to 'logloss'. Explicitly set eval_metric if you'd like to restore the old behavior.\n",
      "Model => XGB Classifier => Fold = 2 => Training Accuracy = 0.879382889200561 => Validation Accuracy = 0.8764044943820225\n",
      "Model => SVM Classifier => Fold = 2 => Training Accuracy = 0.8415147265077139 => Validation Accuracy = 0.8202247191011236\n",
      "Model => Random Forest Classifier => Fold = 2 => Training Accuracy = 0.8934081346423562 => Validation Accuracy = 0.8820224719101124\n",
      "\n",
      "--------------------------------------------------------------------------------------------\n",
      "\n",
      "[19:12:50] WARNING: ../src/learner.cc:1095: Starting in XGBoost 1.3.0, the default evaluation metric used with the objective 'binary:logistic' was changed from 'error' to 'logloss'. Explicitly set eval_metric if you'd like to restore the old behavior.\n",
      "Model => XGB Classifier => Fold = 3 => Training Accuracy = 0.884992987377279 => Validation Accuracy = 0.8539325842696629\n",
      "Model => SVM Classifier => Fold = 3 => Training Accuracy = 0.8457223001402524 => Validation Accuracy = 0.8146067415730337\n",
      "Model => Random Forest Classifier => Fold = 3 => Training Accuracy = 0.9046283309957924 => Validation Accuracy = 0.8314606741573034\n",
      "\n",
      "--------------------------------------------------------------------------------------------\n",
      "\n",
      "[19:12:51] WARNING: ../src/learner.cc:1095: Starting in XGBoost 1.3.0, the default evaluation metric used with the objective 'binary:logistic' was changed from 'error' to 'logloss'. Explicitly set eval_metric if you'd like to restore the old behavior.\n",
      "Model => XGB Classifier => Fold = 4 => Training Accuracy = 0.8807854137447405 => Validation Accuracy = 0.8707865168539326\n",
      "Model => SVM Classifier => Fold = 4 => Training Accuracy = 0.8359046283309958 => Validation Accuracy = 0.5337078651685393\n",
      "Model => Random Forest Classifier => Fold = 4 => Training Accuracy = 0.9018232819074333 => Validation Accuracy = 0.8595505617977528\n",
      "\n",
      "--------------------------------------------------------------------------------------------\n",
      "\n"
     ]
    }
   ],
   "source": [
    "XGB_model=XGBClassifier(max_depth=4,learning_rate=0.1,colsample_bytree=0.8,gamma=0.3,min_child_weight=5,subsample=1.0)\n",
    "SVM_model=SVC(C=1000,class_weight='balanced',gamma='auto')\n",
    "RFC_model=RandomForestClassifier(max_depth=30,max_features=None,min_samples_leaf=1,min_samples_split=15,n_estimators=300)\n",
    "\n",
    "models={\n",
    "    'XGB Classifier' : XGB_model,\n",
    "    'SVM Classifier' : SVM_model,\n",
    "    'Random Forest Classifier' : RFC_model\n",
    "    }\n",
    "\n",
    "accuracies,confusion_matrices,classification_reports=[],[],[]\n",
    "for f in range(5):\n",
    "  accuracy,confusion_matrix,classification_report=run(f,df_optimal_RFC,models=models,target_name='Survived', save_model= True, print_details=True)\n",
    "  accuracies.append(accuracy)\n",
    "  confusion_matrices.append(confusion_matrix)\n",
    "  classification_reports.append(classification_report)"
   ]
  },
  {
   "cell_type": "markdown",
   "id": "north-shame",
   "metadata": {
    "papermill": {
     "duration": 0.059994,
     "end_time": "2021-05-04T19:12:52.405855",
     "exception": false,
     "start_time": "2021-05-04T19:12:52.345861",
     "status": "completed"
    },
    "tags": []
   },
   "source": [
    "# Conclusion : Overall, XGB and Random Forest seem to have comparable accuracies but in 1-2 cases, Random Forest Classifier had a bit better accuracy among the two. So Random Forest seemed best for this"
   ]
  },
  {
   "cell_type": "markdown",
   "id": "composed-craps",
   "metadata": {
    "id": "mM_wxq28MqW2",
    "papermill": {
     "duration": 0.060374,
     "end_time": "2021-05-04T19:12:52.527215",
     "exception": false,
     "start_time": "2021-05-04T19:12:52.466841",
     "status": "completed"
    },
    "tags": []
   },
   "source": [
    "# Prediction"
   ]
  },
  {
   "cell_type": "code",
   "execution_count": 30,
   "id": "fiscal-factor",
   "metadata": {
    "execution": {
     "iopub.execute_input": "2021-05-04T19:12:52.653467Z",
     "iopub.status.busy": "2021-05-04T19:12:52.652726Z",
     "iopub.status.idle": "2021-05-04T19:12:52.679962Z",
     "shell.execute_reply": "2021-05-04T19:12:52.679353Z"
    },
    "id": "ARz5tehkHc9b",
    "outputId": "d685c094-5fdf-4168-dfc4-fb3c564604d9",
    "papermill": {
     "duration": 0.092329,
     "end_time": "2021-05-04T19:12:52.680111",
     "exception": false,
     "start_time": "2021-05-04T19:12:52.587782",
     "status": "completed"
    },
    "tags": []
   },
   "outputs": [
    {
     "data": {
      "text/html": [
       "<div>\n",
       "<style scoped>\n",
       "    .dataframe tbody tr th:only-of-type {\n",
       "        vertical-align: middle;\n",
       "    }\n",
       "\n",
       "    .dataframe tbody tr th {\n",
       "        vertical-align: top;\n",
       "    }\n",
       "\n",
       "    .dataframe thead th {\n",
       "        text-align: right;\n",
       "    }\n",
       "</style>\n",
       "<table border=\"1\" class=\"dataframe\">\n",
       "  <thead>\n",
       "    <tr style=\"text-align: right;\">\n",
       "      <th></th>\n",
       "      <th>PassengerId</th>\n",
       "      <th>Pclass</th>\n",
       "      <th>Name</th>\n",
       "      <th>Sex</th>\n",
       "      <th>Age</th>\n",
       "      <th>SibSp</th>\n",
       "      <th>Parch</th>\n",
       "      <th>Ticket</th>\n",
       "      <th>Fare</th>\n",
       "      <th>Cabin</th>\n",
       "      <th>Embarked</th>\n",
       "    </tr>\n",
       "  </thead>\n",
       "  <tbody>\n",
       "    <tr>\n",
       "      <th>0</th>\n",
       "      <td>892</td>\n",
       "      <td>3</td>\n",
       "      <td>Kelly, Mr. James</td>\n",
       "      <td>male</td>\n",
       "      <td>34.5</td>\n",
       "      <td>0</td>\n",
       "      <td>0</td>\n",
       "      <td>330911</td>\n",
       "      <td>7.8292</td>\n",
       "      <td>NaN</td>\n",
       "      <td>Q</td>\n",
       "    </tr>\n",
       "    <tr>\n",
       "      <th>1</th>\n",
       "      <td>893</td>\n",
       "      <td>3</td>\n",
       "      <td>Wilkes, Mrs. James (Ellen Needs)</td>\n",
       "      <td>female</td>\n",
       "      <td>47.0</td>\n",
       "      <td>1</td>\n",
       "      <td>0</td>\n",
       "      <td>363272</td>\n",
       "      <td>7.0000</td>\n",
       "      <td>NaN</td>\n",
       "      <td>S</td>\n",
       "    </tr>\n",
       "    <tr>\n",
       "      <th>2</th>\n",
       "      <td>894</td>\n",
       "      <td>2</td>\n",
       "      <td>Myles, Mr. Thomas Francis</td>\n",
       "      <td>male</td>\n",
       "      <td>62.0</td>\n",
       "      <td>0</td>\n",
       "      <td>0</td>\n",
       "      <td>240276</td>\n",
       "      <td>9.6875</td>\n",
       "      <td>NaN</td>\n",
       "      <td>Q</td>\n",
       "    </tr>\n",
       "    <tr>\n",
       "      <th>3</th>\n",
       "      <td>895</td>\n",
       "      <td>3</td>\n",
       "      <td>Wirz, Mr. Albert</td>\n",
       "      <td>male</td>\n",
       "      <td>27.0</td>\n",
       "      <td>0</td>\n",
       "      <td>0</td>\n",
       "      <td>315154</td>\n",
       "      <td>8.6625</td>\n",
       "      <td>NaN</td>\n",
       "      <td>S</td>\n",
       "    </tr>\n",
       "    <tr>\n",
       "      <th>4</th>\n",
       "      <td>896</td>\n",
       "      <td>3</td>\n",
       "      <td>Hirvonen, Mrs. Alexander (Helga E Lindqvist)</td>\n",
       "      <td>female</td>\n",
       "      <td>22.0</td>\n",
       "      <td>1</td>\n",
       "      <td>1</td>\n",
       "      <td>3101298</td>\n",
       "      <td>12.2875</td>\n",
       "      <td>NaN</td>\n",
       "      <td>S</td>\n",
       "    </tr>\n",
       "  </tbody>\n",
       "</table>\n",
       "</div>"
      ],
      "text/plain": [
       "   PassengerId  Pclass                                          Name     Sex  \\\n",
       "0          892       3                              Kelly, Mr. James    male   \n",
       "1          893       3              Wilkes, Mrs. James (Ellen Needs)  female   \n",
       "2          894       2                     Myles, Mr. Thomas Francis    male   \n",
       "3          895       3                              Wirz, Mr. Albert    male   \n",
       "4          896       3  Hirvonen, Mrs. Alexander (Helga E Lindqvist)  female   \n",
       "\n",
       "    Age  SibSp  Parch   Ticket     Fare Cabin Embarked  \n",
       "0  34.5      0      0   330911   7.8292   NaN        Q  \n",
       "1  47.0      1      0   363272   7.0000   NaN        S  \n",
       "2  62.0      0      0   240276   9.6875   NaN        Q  \n",
       "3  27.0      0      0   315154   8.6625   NaN        S  \n",
       "4  22.0      1      1  3101298  12.2875   NaN        S  "
      ]
     },
     "execution_count": 30,
     "metadata": {},
     "output_type": "execute_result"
    }
   ],
   "source": [
    "df_test = pd.read_csv(TESTING_PATH)\n",
    "df_test.head()"
   ]
  },
  {
   "cell_type": "code",
   "execution_count": 31,
   "id": "young-racing",
   "metadata": {
    "execution": {
     "iopub.execute_input": "2021-05-04T19:12:52.820301Z",
     "iopub.status.busy": "2021-05-04T19:12:52.819246Z",
     "iopub.status.idle": "2021-05-04T19:12:52.842466Z",
     "shell.execute_reply": "2021-05-04T19:12:52.841823Z"
    },
    "id": "LFSRD53BKfGl",
    "outputId": "b80eba43-2a71-49e7-d5a8-bde2a0a4dab3",
    "papermill": {
     "duration": 0.100308,
     "end_time": "2021-05-04T19:12:52.842633",
     "exception": false,
     "start_time": "2021-05-04T19:12:52.742325",
     "status": "completed"
    },
    "tags": []
   },
   "outputs": [
    {
     "data": {
      "text/html": [
       "<div>\n",
       "<style scoped>\n",
       "    .dataframe tbody tr th:only-of-type {\n",
       "        vertical-align: middle;\n",
       "    }\n",
       "\n",
       "    .dataframe tbody tr th {\n",
       "        vertical-align: top;\n",
       "    }\n",
       "\n",
       "    .dataframe thead th {\n",
       "        text-align: right;\n",
       "    }\n",
       "</style>\n",
       "<table border=\"1\" class=\"dataframe\">\n",
       "  <thead>\n",
       "    <tr style=\"text-align: right;\">\n",
       "      <th></th>\n",
       "      <th>PassengerId</th>\n",
       "      <th>Pclass</th>\n",
       "      <th>Age</th>\n",
       "      <th>SibSp</th>\n",
       "      <th>Parch</th>\n",
       "      <th>Fare</th>\n",
       "    </tr>\n",
       "  </thead>\n",
       "  <tbody>\n",
       "    <tr>\n",
       "      <th>count</th>\n",
       "      <td>418.000000</td>\n",
       "      <td>418.000000</td>\n",
       "      <td>332.000000</td>\n",
       "      <td>418.000000</td>\n",
       "      <td>418.000000</td>\n",
       "      <td>417.000000</td>\n",
       "    </tr>\n",
       "    <tr>\n",
       "      <th>mean</th>\n",
       "      <td>1100.500000</td>\n",
       "      <td>2.265550</td>\n",
       "      <td>30.272590</td>\n",
       "      <td>0.447368</td>\n",
       "      <td>0.392344</td>\n",
       "      <td>35.627188</td>\n",
       "    </tr>\n",
       "    <tr>\n",
       "      <th>std</th>\n",
       "      <td>120.810458</td>\n",
       "      <td>0.841838</td>\n",
       "      <td>14.181209</td>\n",
       "      <td>0.896760</td>\n",
       "      <td>0.981429</td>\n",
       "      <td>55.907576</td>\n",
       "    </tr>\n",
       "    <tr>\n",
       "      <th>min</th>\n",
       "      <td>892.000000</td>\n",
       "      <td>1.000000</td>\n",
       "      <td>0.170000</td>\n",
       "      <td>0.000000</td>\n",
       "      <td>0.000000</td>\n",
       "      <td>0.000000</td>\n",
       "    </tr>\n",
       "    <tr>\n",
       "      <th>25%</th>\n",
       "      <td>996.250000</td>\n",
       "      <td>1.000000</td>\n",
       "      <td>21.000000</td>\n",
       "      <td>0.000000</td>\n",
       "      <td>0.000000</td>\n",
       "      <td>7.895800</td>\n",
       "    </tr>\n",
       "    <tr>\n",
       "      <th>50%</th>\n",
       "      <td>1100.500000</td>\n",
       "      <td>3.000000</td>\n",
       "      <td>27.000000</td>\n",
       "      <td>0.000000</td>\n",
       "      <td>0.000000</td>\n",
       "      <td>14.454200</td>\n",
       "    </tr>\n",
       "    <tr>\n",
       "      <th>75%</th>\n",
       "      <td>1204.750000</td>\n",
       "      <td>3.000000</td>\n",
       "      <td>39.000000</td>\n",
       "      <td>1.000000</td>\n",
       "      <td>0.000000</td>\n",
       "      <td>31.500000</td>\n",
       "    </tr>\n",
       "    <tr>\n",
       "      <th>max</th>\n",
       "      <td>1309.000000</td>\n",
       "      <td>3.000000</td>\n",
       "      <td>76.000000</td>\n",
       "      <td>8.000000</td>\n",
       "      <td>9.000000</td>\n",
       "      <td>512.329200</td>\n",
       "    </tr>\n",
       "  </tbody>\n",
       "</table>\n",
       "</div>"
      ],
      "text/plain": [
       "       PassengerId      Pclass         Age       SibSp       Parch        Fare\n",
       "count   418.000000  418.000000  332.000000  418.000000  418.000000  417.000000\n",
       "mean   1100.500000    2.265550   30.272590    0.447368    0.392344   35.627188\n",
       "std     120.810458    0.841838   14.181209    0.896760    0.981429   55.907576\n",
       "min     892.000000    1.000000    0.170000    0.000000    0.000000    0.000000\n",
       "25%     996.250000    1.000000   21.000000    0.000000    0.000000    7.895800\n",
       "50%    1100.500000    3.000000   27.000000    0.000000    0.000000   14.454200\n",
       "75%    1204.750000    3.000000   39.000000    1.000000    0.000000   31.500000\n",
       "max    1309.000000    3.000000   76.000000    8.000000    9.000000  512.329200"
      ]
     },
     "execution_count": 31,
     "metadata": {},
     "output_type": "execute_result"
    }
   ],
   "source": [
    "df_test.describe()"
   ]
  },
  {
   "cell_type": "markdown",
   "id": "arabic-burke",
   "metadata": {
    "id": "pt5B_semONCH",
    "papermill": {
     "duration": 0.061703,
     "end_time": "2021-05-04T19:12:52.966366",
     "exception": false,
     "start_time": "2021-05-04T19:12:52.904663",
     "status": "completed"
    },
    "tags": []
   },
   "source": [
    "#### Creating the dataframe to submit and inserting the Passenger ID column\n",
    "\n"
   ]
  },
  {
   "cell_type": "code",
   "execution_count": 32,
   "id": "humanitarian-ocean",
   "metadata": {
    "execution": {
     "iopub.execute_input": "2021-05-04T19:12:53.105894Z",
     "iopub.status.busy": "2021-05-04T19:12:53.104970Z",
     "iopub.status.idle": "2021-05-04T19:12:53.109857Z",
     "shell.execute_reply": "2021-05-04T19:12:53.109114Z"
    },
    "id": "-LReijWuSviM",
    "outputId": "e742ddf8-c9b5-47ef-f6c8-771ad98b8d1a",
    "papermill": {
     "duration": 0.079335,
     "end_time": "2021-05-04T19:12:53.110018",
     "exception": false,
     "start_time": "2021-05-04T19:12:53.030683",
     "status": "completed"
    },
    "tags": []
   },
   "outputs": [
    {
     "data": {
      "text/html": [
       "<div>\n",
       "<style scoped>\n",
       "    .dataframe tbody tr th:only-of-type {\n",
       "        vertical-align: middle;\n",
       "    }\n",
       "\n",
       "    .dataframe tbody tr th {\n",
       "        vertical-align: top;\n",
       "    }\n",
       "\n",
       "    .dataframe thead th {\n",
       "        text-align: right;\n",
       "    }\n",
       "</style>\n",
       "<table border=\"1\" class=\"dataframe\">\n",
       "  <thead>\n",
       "    <tr style=\"text-align: right;\">\n",
       "      <th></th>\n",
       "      <th>PassengerId</th>\n",
       "    </tr>\n",
       "  </thead>\n",
       "  <tbody>\n",
       "    <tr>\n",
       "      <th>0</th>\n",
       "      <td>892</td>\n",
       "    </tr>\n",
       "    <tr>\n",
       "      <th>1</th>\n",
       "      <td>893</td>\n",
       "    </tr>\n",
       "    <tr>\n",
       "      <th>2</th>\n",
       "      <td>894</td>\n",
       "    </tr>\n",
       "    <tr>\n",
       "      <th>3</th>\n",
       "      <td>895</td>\n",
       "    </tr>\n",
       "    <tr>\n",
       "      <th>4</th>\n",
       "      <td>896</td>\n",
       "    </tr>\n",
       "  </tbody>\n",
       "</table>\n",
       "</div>"
      ],
      "text/plain": [
       "   PassengerId\n",
       "0          892\n",
       "1          893\n",
       "2          894\n",
       "3          895\n",
       "4          896"
      ]
     },
     "execution_count": 32,
     "metadata": {},
     "output_type": "execute_result"
    }
   ],
   "source": [
    "df_submit=pd.DataFrame()\n",
    "df_submit['PassengerId']=df_test['PassengerId']\n",
    "df_submit.head()"
   ]
  },
  {
   "cell_type": "markdown",
   "id": "enormous-december",
   "metadata": {
    "papermill": {
     "duration": 0.071938,
     "end_time": "2021-05-04T19:12:53.244313",
     "exception": false,
     "start_time": "2021-05-04T19:12:53.172375",
     "status": "completed"
    },
    "tags": []
   },
   "source": [
    "### Perform similar preprocessing on the test dataframe and use the same features in the test df as those in the train dataframe optimal for RFC"
   ]
  },
  {
   "cell_type": "code",
   "execution_count": 33,
   "id": "corrected-steps",
   "metadata": {
    "execution": {
     "iopub.execute_input": "2021-05-04T19:12:53.404370Z",
     "iopub.status.busy": "2021-05-04T19:12:53.403368Z",
     "iopub.status.idle": "2021-05-04T19:12:53.408239Z",
     "shell.execute_reply": "2021-05-04T19:12:53.407765Z"
    },
    "papermill": {
     "duration": 0.087009,
     "end_time": "2021-05-04T19:12:53.408396",
     "exception": false,
     "start_time": "2021-05-04T19:12:53.321387",
     "status": "completed"
    },
    "tags": []
   },
   "outputs": [
    {
     "data": {
      "text/html": [
       "<div>\n",
       "<style scoped>\n",
       "    .dataframe tbody tr th:only-of-type {\n",
       "        vertical-align: middle;\n",
       "    }\n",
       "\n",
       "    .dataframe tbody tr th {\n",
       "        vertical-align: top;\n",
       "    }\n",
       "\n",
       "    .dataframe thead th {\n",
       "        text-align: right;\n",
       "    }\n",
       "</style>\n",
       "<table border=\"1\" class=\"dataframe\">\n",
       "  <thead>\n",
       "    <tr style=\"text-align: right;\">\n",
       "      <th></th>\n",
       "      <th>Sex_female</th>\n",
       "      <th>SibSp</th>\n",
       "      <th>Pclass</th>\n",
       "      <th>Fare</th>\n",
       "      <th>Age</th>\n",
       "      <th>Embarked_S</th>\n",
       "      <th>Sex_male</th>\n",
       "      <th>Embarked_C</th>\n",
       "      <th>Survived</th>\n",
       "      <th>kfolds</th>\n",
       "    </tr>\n",
       "  </thead>\n",
       "  <tbody>\n",
       "    <tr>\n",
       "      <th>0</th>\n",
       "      <td>0.0</td>\n",
       "      <td>0.000</td>\n",
       "      <td>1.0</td>\n",
       "      <td>0.015176</td>\n",
       "      <td>0.258608</td>\n",
       "      <td>1.0</td>\n",
       "      <td>1.0</td>\n",
       "      <td>0.0</td>\n",
       "      <td>0</td>\n",
       "      <td>0</td>\n",
       "    </tr>\n",
       "    <tr>\n",
       "      <th>1</th>\n",
       "      <td>0.0</td>\n",
       "      <td>0.125</td>\n",
       "      <td>1.0</td>\n",
       "      <td>0.030937</td>\n",
       "      <td>0.396833</td>\n",
       "      <td>1.0</td>\n",
       "      <td>1.0</td>\n",
       "      <td>0.0</td>\n",
       "      <td>0</td>\n",
       "      <td>0</td>\n",
       "    </tr>\n",
       "    <tr>\n",
       "      <th>2</th>\n",
       "      <td>0.0</td>\n",
       "      <td>0.125</td>\n",
       "      <td>1.0</td>\n",
       "      <td>0.028107</td>\n",
       "      <td>0.421965</td>\n",
       "      <td>1.0</td>\n",
       "      <td>1.0</td>\n",
       "      <td>0.0</td>\n",
       "      <td>0</td>\n",
       "      <td>0</td>\n",
       "    </tr>\n",
       "    <tr>\n",
       "      <th>3</th>\n",
       "      <td>0.0</td>\n",
       "      <td>0.000</td>\n",
       "      <td>1.0</td>\n",
       "      <td>0.016908</td>\n",
       "      <td>0.334004</td>\n",
       "      <td>1.0</td>\n",
       "      <td>1.0</td>\n",
       "      <td>0.0</td>\n",
       "      <td>1</td>\n",
       "      <td>0</td>\n",
       "    </tr>\n",
       "    <tr>\n",
       "      <th>4</th>\n",
       "      <td>1.0</td>\n",
       "      <td>0.000</td>\n",
       "      <td>1.0</td>\n",
       "      <td>0.015176</td>\n",
       "      <td>0.308872</td>\n",
       "      <td>1.0</td>\n",
       "      <td>0.0</td>\n",
       "      <td>0.0</td>\n",
       "      <td>0</td>\n",
       "      <td>0</td>\n",
       "    </tr>\n",
       "  </tbody>\n",
       "</table>\n",
       "</div>"
      ],
      "text/plain": [
       "   Sex_female  SibSp  Pclass      Fare       Age  Embarked_S  Sex_male  \\\n",
       "0         0.0  0.000     1.0  0.015176  0.258608         1.0       1.0   \n",
       "1         0.0  0.125     1.0  0.030937  0.396833         1.0       1.0   \n",
       "2         0.0  0.125     1.0  0.028107  0.421965         1.0       1.0   \n",
       "3         0.0  0.000     1.0  0.016908  0.334004         1.0       1.0   \n",
       "4         1.0  0.000     1.0  0.015176  0.308872         1.0       0.0   \n",
       "\n",
       "   Embarked_C  Survived  kfolds  \n",
       "0         0.0         0       0  \n",
       "1         0.0         0       0  \n",
       "2         0.0         0       0  \n",
       "3         0.0         1       0  \n",
       "4         0.0         0       0  "
      ]
     },
     "execution_count": 33,
     "metadata": {},
     "output_type": "execute_result"
    }
   ],
   "source": [
    "df_optimal_RFC.head()"
   ]
  },
  {
   "cell_type": "code",
   "execution_count": 34,
   "id": "viral-limitation",
   "metadata": {
    "execution": {
     "iopub.execute_input": "2021-05-04T19:12:53.544738Z",
     "iopub.status.busy": "2021-05-04T19:12:53.544011Z",
     "iopub.status.idle": "2021-05-04T19:12:53.546399Z",
     "shell.execute_reply": "2021-05-04T19:12:53.546826Z"
    },
    "id": "Ge9UaXmAH-vz",
    "papermill": {
     "duration": 0.076154,
     "end_time": "2021-05-04T19:12:53.547033",
     "exception": false,
     "start_time": "2021-05-04T19:12:53.470879",
     "status": "completed"
    },
    "tags": []
   },
   "outputs": [],
   "source": [
    "def get_preprocessed_test_data(df,df_test):\n",
    "    \n",
    "\n",
    "\n",
    "  df_test=pd.get_dummies(data=df_test,columns=['Sex','Embarked'])\n",
    "\n",
    "  optimal_data_cols = df.columns\n",
    "  optimal_data_cols = list(optimal_data_cols[:-2])\n",
    "  df_test=df_test.loc[:,optimal_data_cols]\n",
    "\n",
    "  null_columns = [k for k,v in dict(df_test.isna().sum()).items() if v!=0]\n",
    "\n",
    "  for null_column in null_columns:\n",
    "    df_test[null_column]=imputer.transform(df_test[null_column].values.reshape(-1,1))\n",
    "\n",
    "  df_test_2=pd.DataFrame(scaler.fit_transform(df_test),index=df_test.index,columns=df_test.columns)\n",
    "  df_test=df_test_2\n",
    "\n",
    "  return df_test"
   ]
  },
  {
   "cell_type": "code",
   "execution_count": 35,
   "id": "recreational-pearl",
   "metadata": {
    "execution": {
     "iopub.execute_input": "2021-05-04T19:12:53.680050Z",
     "iopub.status.busy": "2021-05-04T19:12:53.679384Z",
     "iopub.status.idle": "2021-05-04T19:12:53.712958Z",
     "shell.execute_reply": "2021-05-04T19:12:53.713512Z"
    },
    "id": "3DvUa5LdYjxt",
    "outputId": "59e35ab3-0e14-4210-9333-b2b44f90e53a",
    "papermill": {
     "duration": 0.101543,
     "end_time": "2021-05-04T19:12:53.713760",
     "exception": false,
     "start_time": "2021-05-04T19:12:53.612217",
     "status": "completed"
    },
    "tags": []
   },
   "outputs": [
    {
     "data": {
      "text/html": [
       "<div>\n",
       "<style scoped>\n",
       "    .dataframe tbody tr th:only-of-type {\n",
       "        vertical-align: middle;\n",
       "    }\n",
       "\n",
       "    .dataframe tbody tr th {\n",
       "        vertical-align: top;\n",
       "    }\n",
       "\n",
       "    .dataframe thead th {\n",
       "        text-align: right;\n",
       "    }\n",
       "</style>\n",
       "<table border=\"1\" class=\"dataframe\">\n",
       "  <thead>\n",
       "    <tr style=\"text-align: right;\">\n",
       "      <th></th>\n",
       "      <th>Sex_female</th>\n",
       "      <th>SibSp</th>\n",
       "      <th>Pclass</th>\n",
       "      <th>Fare</th>\n",
       "      <th>Age</th>\n",
       "      <th>Embarked_S</th>\n",
       "      <th>Sex_male</th>\n",
       "      <th>Embarked_C</th>\n",
       "    </tr>\n",
       "  </thead>\n",
       "  <tbody>\n",
       "    <tr>\n",
       "      <th>0</th>\n",
       "      <td>0.0</td>\n",
       "      <td>0.000</td>\n",
       "      <td>1.0</td>\n",
       "      <td>0.015282</td>\n",
       "      <td>0.452723</td>\n",
       "      <td>0.0</td>\n",
       "      <td>1.0</td>\n",
       "      <td>0.0</td>\n",
       "    </tr>\n",
       "    <tr>\n",
       "      <th>1</th>\n",
       "      <td>1.0</td>\n",
       "      <td>0.125</td>\n",
       "      <td>1.0</td>\n",
       "      <td>0.013663</td>\n",
       "      <td>0.617566</td>\n",
       "      <td>1.0</td>\n",
       "      <td>0.0</td>\n",
       "      <td>0.0</td>\n",
       "    </tr>\n",
       "    <tr>\n",
       "      <th>2</th>\n",
       "      <td>0.0</td>\n",
       "      <td>0.000</td>\n",
       "      <td>0.5</td>\n",
       "      <td>0.018909</td>\n",
       "      <td>0.815377</td>\n",
       "      <td>0.0</td>\n",
       "      <td>1.0</td>\n",
       "      <td>0.0</td>\n",
       "    </tr>\n",
       "    <tr>\n",
       "      <th>3</th>\n",
       "      <td>0.0</td>\n",
       "      <td>0.000</td>\n",
       "      <td>1.0</td>\n",
       "      <td>0.016908</td>\n",
       "      <td>0.353818</td>\n",
       "      <td>1.0</td>\n",
       "      <td>1.0</td>\n",
       "      <td>0.0</td>\n",
       "    </tr>\n",
       "    <tr>\n",
       "      <th>4</th>\n",
       "      <td>1.0</td>\n",
       "      <td>0.125</td>\n",
       "      <td>1.0</td>\n",
       "      <td>0.023984</td>\n",
       "      <td>0.287881</td>\n",
       "      <td>1.0</td>\n",
       "      <td>0.0</td>\n",
       "      <td>0.0</td>\n",
       "    </tr>\n",
       "  </tbody>\n",
       "</table>\n",
       "</div>"
      ],
      "text/plain": [
       "   Sex_female  SibSp  Pclass      Fare       Age  Embarked_S  Sex_male  \\\n",
       "0         0.0  0.000     1.0  0.015282  0.452723         0.0       1.0   \n",
       "1         1.0  0.125     1.0  0.013663  0.617566         1.0       0.0   \n",
       "2         0.0  0.000     0.5  0.018909  0.815377         0.0       1.0   \n",
       "3         0.0  0.000     1.0  0.016908  0.353818         1.0       1.0   \n",
       "4         1.0  0.125     1.0  0.023984  0.287881         1.0       0.0   \n",
       "\n",
       "   Embarked_C  \n",
       "0         0.0  \n",
       "1         0.0  \n",
       "2         0.0  \n",
       "3         0.0  \n",
       "4         0.0  "
      ]
     },
     "execution_count": 35,
     "metadata": {},
     "output_type": "execute_result"
    }
   ],
   "source": [
    "df_test = get_preprocessed_test_data(df_optimal_RFC,df_test)\n",
    "df_test.head()"
   ]
  },
  {
   "cell_type": "code",
   "execution_count": 36,
   "id": "geological-carroll",
   "metadata": {
    "execution": {
     "iopub.execute_input": "2021-05-04T19:12:53.852532Z",
     "iopub.status.busy": "2021-05-04T19:12:53.851725Z",
     "iopub.status.idle": "2021-05-04T19:12:53.854836Z",
     "shell.execute_reply": "2021-05-04T19:12:53.855300Z"
    },
    "id": "ncKd39wXd9gn",
    "outputId": "ff77da7d-5718-421d-8512-328a3e43ed0c",
    "papermill": {
     "duration": 0.076436,
     "end_time": "2021-05-04T19:12:53.855485",
     "exception": false,
     "start_time": "2021-05-04T19:12:53.779049",
     "status": "completed"
    },
    "tags": []
   },
   "outputs": [
    {
     "data": {
      "text/plain": [
       "Sex_female    0\n",
       "SibSp         0\n",
       "Pclass        0\n",
       "Fare          0\n",
       "Age           0\n",
       "Embarked_S    0\n",
       "Sex_male      0\n",
       "Embarked_C    0\n",
       "dtype: int64"
      ]
     },
     "execution_count": 36,
     "metadata": {},
     "output_type": "execute_result"
    }
   ],
   "source": [
    "df_test.isna().sum()"
   ]
  },
  {
   "cell_type": "markdown",
   "id": "raising-inside",
   "metadata": {
    "papermill": {
     "duration": 0.064227,
     "end_time": "2021-05-04T19:12:53.983639",
     "exception": false,
     "start_time": "2021-05-04T19:12:53.919412",
     "status": "completed"
    },
    "tags": []
   },
   "source": [
    "### Just re-train the RFC model once again!"
   ]
  },
  {
   "cell_type": "code",
   "execution_count": 37,
   "id": "artificial-harvest",
   "metadata": {
    "execution": {
     "iopub.execute_input": "2021-05-04T19:12:54.118401Z",
     "iopub.status.busy": "2021-05-04T19:12:54.117652Z",
     "iopub.status.idle": "2021-05-04T19:12:54.124697Z",
     "shell.execute_reply": "2021-05-04T19:12:54.125283Z"
    },
    "id": "_KDKpwwXR0Yy",
    "papermill": {
     "duration": 0.076249,
     "end_time": "2021-05-04T19:12:54.125498",
     "exception": false,
     "start_time": "2021-05-04T19:12:54.049249",
     "status": "completed"
    },
    "tags": []
   },
   "outputs": [],
   "source": [
    "x_train=df_optimal_RFC.drop(['Survived','kfolds'],axis=1)\n",
    "y_train=df_optimal_RFC['Survived']"
   ]
  },
  {
   "cell_type": "code",
   "execution_count": 38,
   "id": "metallic-custom",
   "metadata": {
    "execution": {
     "iopub.execute_input": "2021-05-04T19:12:54.271095Z",
     "iopub.status.busy": "2021-05-04T19:12:54.270450Z",
     "iopub.status.idle": "2021-05-04T19:12:54.273892Z",
     "shell.execute_reply": "2021-05-04T19:12:54.274389Z"
    },
    "id": "naU10pHlTaGE",
    "outputId": "254a9ebf-dab2-4d1b-c7bb-99cf35ad4753",
    "papermill": {
     "duration": 0.08455,
     "end_time": "2021-05-04T19:12:54.274608",
     "exception": false,
     "start_time": "2021-05-04T19:12:54.190058",
     "status": "completed"
    },
    "tags": []
   },
   "outputs": [
    {
     "data": {
      "text/html": [
       "<div>\n",
       "<style scoped>\n",
       "    .dataframe tbody tr th:only-of-type {\n",
       "        vertical-align: middle;\n",
       "    }\n",
       "\n",
       "    .dataframe tbody tr th {\n",
       "        vertical-align: top;\n",
       "    }\n",
       "\n",
       "    .dataframe thead th {\n",
       "        text-align: right;\n",
       "    }\n",
       "</style>\n",
       "<table border=\"1\" class=\"dataframe\">\n",
       "  <thead>\n",
       "    <tr style=\"text-align: right;\">\n",
       "      <th></th>\n",
       "      <th>Sex_female</th>\n",
       "      <th>SibSp</th>\n",
       "      <th>Pclass</th>\n",
       "      <th>Fare</th>\n",
       "      <th>Age</th>\n",
       "      <th>Embarked_S</th>\n",
       "      <th>Sex_male</th>\n",
       "      <th>Embarked_C</th>\n",
       "    </tr>\n",
       "  </thead>\n",
       "  <tbody>\n",
       "    <tr>\n",
       "      <th>0</th>\n",
       "      <td>0.0</td>\n",
       "      <td>0.000</td>\n",
       "      <td>1.0</td>\n",
       "      <td>0.015176</td>\n",
       "      <td>0.258608</td>\n",
       "      <td>1.0</td>\n",
       "      <td>1.0</td>\n",
       "      <td>0.0</td>\n",
       "    </tr>\n",
       "    <tr>\n",
       "      <th>1</th>\n",
       "      <td>0.0</td>\n",
       "      <td>0.125</td>\n",
       "      <td>1.0</td>\n",
       "      <td>0.030937</td>\n",
       "      <td>0.396833</td>\n",
       "      <td>1.0</td>\n",
       "      <td>1.0</td>\n",
       "      <td>0.0</td>\n",
       "    </tr>\n",
       "    <tr>\n",
       "      <th>2</th>\n",
       "      <td>0.0</td>\n",
       "      <td>0.125</td>\n",
       "      <td>1.0</td>\n",
       "      <td>0.028107</td>\n",
       "      <td>0.421965</td>\n",
       "      <td>1.0</td>\n",
       "      <td>1.0</td>\n",
       "      <td>0.0</td>\n",
       "    </tr>\n",
       "    <tr>\n",
       "      <th>3</th>\n",
       "      <td>0.0</td>\n",
       "      <td>0.000</td>\n",
       "      <td>1.0</td>\n",
       "      <td>0.016908</td>\n",
       "      <td>0.334004</td>\n",
       "      <td>1.0</td>\n",
       "      <td>1.0</td>\n",
       "      <td>0.0</td>\n",
       "    </tr>\n",
       "    <tr>\n",
       "      <th>4</th>\n",
       "      <td>1.0</td>\n",
       "      <td>0.000</td>\n",
       "      <td>1.0</td>\n",
       "      <td>0.015176</td>\n",
       "      <td>0.308872</td>\n",
       "      <td>1.0</td>\n",
       "      <td>0.0</td>\n",
       "      <td>0.0</td>\n",
       "    </tr>\n",
       "  </tbody>\n",
       "</table>\n",
       "</div>"
      ],
      "text/plain": [
       "   Sex_female  SibSp  Pclass      Fare       Age  Embarked_S  Sex_male  \\\n",
       "0         0.0  0.000     1.0  0.015176  0.258608         1.0       1.0   \n",
       "1         0.0  0.125     1.0  0.030937  0.396833         1.0       1.0   \n",
       "2         0.0  0.125     1.0  0.028107  0.421965         1.0       1.0   \n",
       "3         0.0  0.000     1.0  0.016908  0.334004         1.0       1.0   \n",
       "4         1.0  0.000     1.0  0.015176  0.308872         1.0       0.0   \n",
       "\n",
       "   Embarked_C  \n",
       "0         0.0  \n",
       "1         0.0  \n",
       "2         0.0  \n",
       "3         0.0  \n",
       "4         0.0  "
      ]
     },
     "execution_count": 38,
     "metadata": {},
     "output_type": "execute_result"
    }
   ],
   "source": [
    "x_train.head()"
   ]
  },
  {
   "cell_type": "code",
   "execution_count": 39,
   "id": "emerging-wiring",
   "metadata": {
    "execution": {
     "iopub.execute_input": "2021-05-04T19:12:54.409838Z",
     "iopub.status.busy": "2021-05-04T19:12:54.409128Z",
     "iopub.status.idle": "2021-05-04T19:12:54.415389Z",
     "shell.execute_reply": "2021-05-04T19:12:54.415880Z"
    },
    "id": "39UolBQDSRVS",
    "outputId": "caa754ea-38ce-4c8a-c09a-dfaf53c3fc3d",
    "papermill": {
     "duration": 0.075073,
     "end_time": "2021-05-04T19:12:54.416075",
     "exception": false,
     "start_time": "2021-05-04T19:12:54.341002",
     "status": "completed"
    },
    "tags": []
   },
   "outputs": [
    {
     "data": {
      "text/plain": [
       "891"
      ]
     },
     "execution_count": 39,
     "metadata": {},
     "output_type": "execute_result"
    }
   ],
   "source": [
    "len(x_train)"
   ]
  },
  {
   "cell_type": "code",
   "execution_count": 40,
   "id": "central-nudist",
   "metadata": {
    "execution": {
     "iopub.execute_input": "2021-05-04T19:12:54.553759Z",
     "iopub.status.busy": "2021-05-04T19:12:54.553020Z",
     "iopub.status.idle": "2021-05-04T19:12:55.222896Z",
     "shell.execute_reply": "2021-05-04T19:12:55.223484Z"
    },
    "id": "4JGd1bSyP38f",
    "outputId": "1ca7a489-ad09-40ce-8875-3f075eb7f94a",
    "papermill": {
     "duration": 0.742506,
     "end_time": "2021-05-04T19:12:55.223814",
     "exception": false,
     "start_time": "2021-05-04T19:12:54.481308",
     "status": "completed"
    },
    "tags": []
   },
   "outputs": [
    {
     "data": {
      "text/plain": [
       "RandomForestClassifier(max_depth=30, max_features=None, min_samples_split=15,\n",
       "                       n_estimators=300)"
      ]
     },
     "execution_count": 40,
     "metadata": {},
     "output_type": "execute_result"
    }
   ],
   "source": [
    "final_model = RandomForestClassifier(max_depth=30,max_features=None,min_samples_leaf=1,min_samples_split=15,n_estimators=300)\n",
    "final_model.fit(x_train,y_train)"
   ]
  },
  {
   "cell_type": "code",
   "execution_count": 41,
   "id": "interpreted-format",
   "metadata": {
    "execution": {
     "iopub.execute_input": "2021-05-04T19:12:55.361276Z",
     "iopub.status.busy": "2021-05-04T19:12:55.360640Z",
     "iopub.status.idle": "2021-05-04T19:12:55.486328Z",
     "shell.execute_reply": "2021-05-04T19:12:55.485732Z"
    },
    "id": "2qfuRP7MYL-I",
    "outputId": "ea5d87be-1f27-47a6-f48d-5d5e959abe48",
    "papermill": {
     "duration": 0.196742,
     "end_time": "2021-05-04T19:12:55.486517",
     "exception": false,
     "start_time": "2021-05-04T19:12:55.289775",
     "status": "completed"
    },
    "tags": []
   },
   "outputs": [
    {
     "data": {
      "text/plain": [
       "['./Final Random Forest Classifier Model.bin']"
      ]
     },
     "execution_count": 41,
     "metadata": {},
     "output_type": "execute_result"
    }
   ],
   "source": [
    "joblib.dump(final_model, f\"{MODEL_PATH}Final Random Forest Classifier Model.bin\")"
   ]
  },
  {
   "cell_type": "code",
   "execution_count": 42,
   "id": "forbidden-ethernet",
   "metadata": {
    "execution": {
     "iopub.execute_input": "2021-05-04T19:12:55.628686Z",
     "iopub.status.busy": "2021-05-04T19:12:55.627983Z",
     "iopub.status.idle": "2021-05-04T19:12:55.677580Z",
     "shell.execute_reply": "2021-05-04T19:12:55.678093Z"
    },
    "id": "mQU9jGxDSW15",
    "papermill": {
     "duration": 0.124516,
     "end_time": "2021-05-04T19:12:55.678307",
     "exception": false,
     "start_time": "2021-05-04T19:12:55.553791",
     "status": "completed"
    },
    "tags": []
   },
   "outputs": [],
   "source": [
    "df_submit['Survived']=final_model.predict(df_test)"
   ]
  },
  {
   "cell_type": "code",
   "execution_count": 43,
   "id": "radio-musical",
   "metadata": {
    "execution": {
     "iopub.execute_input": "2021-05-04T19:12:55.818876Z",
     "iopub.status.busy": "2021-05-04T19:12:55.817990Z",
     "iopub.status.idle": "2021-05-04T19:12:55.822915Z",
     "shell.execute_reply": "2021-05-04T19:12:55.823360Z"
    },
    "id": "2G751WrOTOrk",
    "outputId": "00187be7-5fce-4c62-e8e1-fe5f5ccf5462",
    "papermill": {
     "duration": 0.079807,
     "end_time": "2021-05-04T19:12:55.823578",
     "exception": false,
     "start_time": "2021-05-04T19:12:55.743771",
     "status": "completed"
    },
    "tags": []
   },
   "outputs": [
    {
     "data": {
      "text/html": [
       "<div>\n",
       "<style scoped>\n",
       "    .dataframe tbody tr th:only-of-type {\n",
       "        vertical-align: middle;\n",
       "    }\n",
       "\n",
       "    .dataframe tbody tr th {\n",
       "        vertical-align: top;\n",
       "    }\n",
       "\n",
       "    .dataframe thead th {\n",
       "        text-align: right;\n",
       "    }\n",
       "</style>\n",
       "<table border=\"1\" class=\"dataframe\">\n",
       "  <thead>\n",
       "    <tr style=\"text-align: right;\">\n",
       "      <th></th>\n",
       "      <th>PassengerId</th>\n",
       "      <th>Survived</th>\n",
       "    </tr>\n",
       "  </thead>\n",
       "  <tbody>\n",
       "    <tr>\n",
       "      <th>0</th>\n",
       "      <td>892</td>\n",
       "      <td>0</td>\n",
       "    </tr>\n",
       "    <tr>\n",
       "      <th>1</th>\n",
       "      <td>893</td>\n",
       "      <td>0</td>\n",
       "    </tr>\n",
       "    <tr>\n",
       "      <th>2</th>\n",
       "      <td>894</td>\n",
       "      <td>0</td>\n",
       "    </tr>\n",
       "    <tr>\n",
       "      <th>3</th>\n",
       "      <td>895</td>\n",
       "      <td>0</td>\n",
       "    </tr>\n",
       "    <tr>\n",
       "      <th>4</th>\n",
       "      <td>896</td>\n",
       "      <td>0</td>\n",
       "    </tr>\n",
       "  </tbody>\n",
       "</table>\n",
       "</div>"
      ],
      "text/plain": [
       "   PassengerId  Survived\n",
       "0          892         0\n",
       "1          893         0\n",
       "2          894         0\n",
       "3          895         0\n",
       "4          896         0"
      ]
     },
     "execution_count": 43,
     "metadata": {},
     "output_type": "execute_result"
    }
   ],
   "source": [
    "df_submit.head()"
   ]
  },
  {
   "cell_type": "code",
   "execution_count": 44,
   "id": "essential-necessity",
   "metadata": {
    "execution": {
     "iopub.execute_input": "2021-05-04T19:12:55.964423Z",
     "iopub.status.busy": "2021-05-04T19:12:55.963748Z",
     "iopub.status.idle": "2021-05-04T19:12:55.966946Z",
     "shell.execute_reply": "2021-05-04T19:12:55.967420Z"
    },
    "id": "RcFowNEB4gbX",
    "outputId": "bac8c588-4628-4fe7-86c3-a7ba0bd24dc2",
    "papermill": {
     "duration": 0.07585,
     "end_time": "2021-05-04T19:12:55.967615",
     "exception": false,
     "start_time": "2021-05-04T19:12:55.891765",
     "status": "completed"
    },
    "tags": []
   },
   "outputs": [
    {
     "data": {
      "text/plain": [
       "418"
      ]
     },
     "execution_count": 44,
     "metadata": {},
     "output_type": "execute_result"
    }
   ],
   "source": [
    "len(df_submit)"
   ]
  },
  {
   "cell_type": "code",
   "execution_count": 45,
   "id": "sustained-butterfly",
   "metadata": {
    "execution": {
     "iopub.execute_input": "2021-05-04T19:12:56.105741Z",
     "iopub.status.busy": "2021-05-04T19:12:56.104852Z",
     "iopub.status.idle": "2021-05-04T19:12:56.111695Z",
     "shell.execute_reply": "2021-05-04T19:12:56.112239Z"
    },
    "id": "zfDYQwvLT3Db",
    "papermill": {
     "duration": 0.077868,
     "end_time": "2021-05-04T19:12:56.112450",
     "exception": false,
     "start_time": "2021-05-04T19:12:56.034582",
     "status": "completed"
    },
    "tags": []
   },
   "outputs": [],
   "source": [
    "df_submit.to_csv('RFC_Submission_Allfeats_hyperparams_tuned_100.csv',index=False)"
   ]
  },
  {
   "cell_type": "code",
   "execution_count": null,
   "id": "independent-mounting",
   "metadata": {
    "id": "yXFVjXFwzKc1",
    "papermill": {
     "duration": 0.066328,
     "end_time": "2021-05-04T19:12:56.247270",
     "exception": false,
     "start_time": "2021-05-04T19:12:56.180942",
     "status": "completed"
    },
    "tags": []
   },
   "outputs": [],
   "source": []
  },
  {
   "cell_type": "code",
   "execution_count": null,
   "id": "handmade-blocking",
   "metadata": {
    "id": "yOERqeyqzK7E",
    "papermill": {
     "duration": 0.065391,
     "end_time": "2021-05-04T19:12:56.381031",
     "exception": false,
     "start_time": "2021-05-04T19:12:56.315640",
     "status": "completed"
    },
    "tags": []
   },
   "outputs": [],
   "source": []
  },
  {
   "cell_type": "code",
   "execution_count": null,
   "id": "dedicated-justice",
   "metadata": {
    "id": "Dh7Z482_zLaH",
    "papermill": {
     "duration": 0.065913,
     "end_time": "2021-05-04T19:12:56.512791",
     "exception": false,
     "start_time": "2021-05-04T19:12:56.446878",
     "status": "completed"
    },
    "tags": []
   },
   "outputs": [],
   "source": []
  },
  {
   "cell_type": "code",
   "execution_count": null,
   "id": "suspected-fraction",
   "metadata": {
    "id": "zW9Mwv5h5TDm",
    "papermill": {
     "duration": 0.065611,
     "end_time": "2021-05-04T19:12:56.644323",
     "exception": false,
     "start_time": "2021-05-04T19:12:56.578712",
     "status": "completed"
    },
    "tags": []
   },
   "outputs": [],
   "source": []
  }
 ],
 "metadata": {
  "kernelspec": {
   "display_name": "Python 3",
   "language": "python",
   "name": "python3"
  },
  "language_info": {
   "codemirror_mode": {
    "name": "ipython",
    "version": 3
   },
   "file_extension": ".py",
   "mimetype": "text/x-python",
   "name": "python",
   "nbconvert_exporter": "python",
   "pygments_lexer": "ipython3",
   "version": "3.7.10"
  },
  "papermill": {
   "default_parameters": {},
   "duration": 56.300325,
   "end_time": "2021-05-04T19:12:58.263414",
   "environment_variables": {},
   "exception": null,
   "input_path": "__notebook__.ipynb",
   "output_path": "__notebook__.ipynb",
   "parameters": {},
   "start_time": "2021-05-04T19:12:01.963089",
   "version": "2.3.3"
  }
 },
 "nbformat": 4,
 "nbformat_minor": 5
}
